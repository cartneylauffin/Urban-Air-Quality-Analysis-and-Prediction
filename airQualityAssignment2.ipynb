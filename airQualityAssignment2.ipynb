{
  "cells": [
    {
      "cell_type": "code",
      "execution_count": 1,
      "metadata": {
        "id": "cdwIthFWKuWe"
      },
      "outputs": [],
      "source": [
        "import pandas as pd\n",
        "import numpy as np"
      ]
    },
    {
      "cell_type": "markdown",
      "metadata": {
        "id": "gYnmUgaPYprq"
      },
      "source": [
        "**Load Dataset**"
      ]
    },
    {
      "cell_type": "code",
      "execution_count": 2,
      "metadata": {
        "id": "EWj6KaSPOsca"
      },
      "outputs": [],
      "source": [
        "file_path = \"/content/airQuality.csv\"\n",
        "df = pd.read_csv(file_path)"
      ]
    },
    {
      "cell_type": "markdown",
      "metadata": {
        "id": "yjv_-KwJpT1W"
      },
      "source": [
        "# **Phase 1: Problem Definition & Data Preparation**"
      ]
    },
    {
      "cell_type": "markdown",
      "metadata": {
        "id": "U2L1ScegpFt-"
      },
      "source": [
        "**Define Your Target Variable & Prediction Task**"
      ]
    },
    {
      "cell_type": "markdown",
      "metadata": {
        "id": "7LT_9pjMZD6e"
      },
      "source": [
        "Keep only PM2.5 measurements"
      ]
    },
    {
      "cell_type": "code",
      "execution_count": 3,
      "metadata": {
        "id": "JaIrVrp6OwFd"
      },
      "outputs": [],
      "source": [
        "pm25_df = df[df[\"parameter\"] == \"pm25\"].copy()"
      ]
    },
    {
      "cell_type": "markdown",
      "metadata": {
        "id": "4R6027MwaKKj"
      },
      "source": [
        "Ensure datetime column is of datetime type"
      ]
    },
    {
      "cell_type": "code",
      "execution_count": 4,
      "metadata": {
        "id": "6UbTiQpHO6fz"
      },
      "outputs": [],
      "source": [
        "pm25_df[\"datetimeLocal\"] = pd.to_datetime(pm25_df[\"datetimeLocal\"])"
      ]
    },
    {
      "cell_type": "markdown",
      "metadata": {
        "id": "jaXH930CapnS"
      },
      "source": [
        "Set datetime as index and compute daily mean"
      ]
    },
    {
      "cell_type": "code",
      "execution_count": 5,
      "metadata": {
        "id": "LfcNQZ2CO9vV"
      },
      "outputs": [],
      "source": [
        "pm25_df.set_index(\"datetimeLocal\", inplace=True)\n",
        "daily_pm25 = pm25_df[\"value\"].resample(\"D\").mean().rename(\"pm25_avg\")"
      ]
    },
    {
      "cell_type": "markdown",
      "metadata": {
        "id": "G1gjCCFIpK1l"
      },
      "source": [
        "***Regression Task***"
      ]
    },
    {
      "cell_type": "code",
      "execution_count": 6,
      "metadata": {
        "colab": {
          "base_uri": "https://localhost:8080/"
        },
        "id": "qNULJduyPCnX",
        "outputId": "507a2ee8-b00e-40ef-8fa5-d30fd1541d75"
      },
      "outputs": [
        {
          "output_type": "stream",
          "name": "stdout",
          "text": [
            "Regression dataset (predict next day's PM2.5):\n",
            "                             pm25_avg  pm25_next_day\n",
            "datetimeLocal                                       \n",
            "2016-02-05 00:00:00+05:30  132.000000     207.600000\n",
            "2016-02-08 00:00:00+05:30  135.625000     191.857143\n",
            "2016-02-09 00:00:00+05:30  191.857143     264.600000\n",
            "2016-02-10 00:00:00+05:30  264.600000     118.111111\n",
            "2016-02-11 00:00:00+05:30  118.111111     272.333333\n"
          ]
        }
      ],
      "source": [
        "regression_df = daily_pm25.to_frame()\n",
        "regression_df[\"pm25_next_day\"] = regression_df[\"pm25_avg\"].shift(-1)\n",
        "regression_df = regression_df.dropna()\n",
        "\n",
        "print(\"Regression dataset (predict next day's PM2.5):\")\n",
        "print(regression_df.head())"
      ]
    },
    {
      "cell_type": "markdown",
      "metadata": {
        "id": "7_J8kMNfpOm2"
      },
      "source": [
        "***Classification Task***"
      ]
    },
    {
      "cell_type": "code",
      "execution_count": 7,
      "metadata": {
        "colab": {
          "base_uri": "https://localhost:8080/"
        },
        "id": "WkzV_MdbPHvG",
        "outputId": "25ec5909-7141-4831-d4da-777ff24d167d"
      },
      "outputs": [
        {
          "output_type": "stream",
          "name": "stdout",
          "text": [
            "\n",
            "Classification dataset (predict next day's AQI category):\n",
            "                             pm25_avg aqi_category aqi_next_day\n",
            "datetimeLocal                                                  \n",
            "2016-02-05 00:00:00+05:30  132.000000    Very Poor    Very Poor\n",
            "2016-02-06 00:00:00+05:30  207.600000    Very Poor       Severe\n",
            "2016-02-08 00:00:00+05:30  135.625000    Very Poor    Very Poor\n",
            "2016-02-09 00:00:00+05:30  191.857143    Very Poor       Severe\n",
            "2016-02-10 00:00:00+05:30  264.600000       Severe         Poor\n"
          ]
        }
      ],
      "source": [
        "def get_aqi_category(pm25: float) -> str:\n",
        "    \"\"\"Map PM2.5 (μg/m³) to NAQI category.\"\"\"\n",
        "    if pm25 <= 30:\n",
        "        return \"Good\"\n",
        "    elif pm25 <= 60:\n",
        "        return \"Satisfactory\"\n",
        "    elif pm25 <= 90:\n",
        "        return \"Moderate\"\n",
        "    elif pm25 <= 120:\n",
        "        return \"Poor\"\n",
        "    elif pm25 <= 250:\n",
        "        return \"Very Poor\"\n",
        "    else:\n",
        "        return \"Severe\"\n",
        "\n",
        "classification_df = daily_pm25.to_frame()\n",
        "classification_df[\"aqi_category\"] = classification_df[\"pm25_avg\"].apply(get_aqi_category)\n",
        "classification_df[\"aqi_next_day\"] = classification_df[\"aqi_category\"].shift(-1)\n",
        "classification_df = classification_df.dropna()\n",
        "\n",
        "print(\"\\nClassification dataset (predict next day's AQI category):\")\n",
        "print(classification_df.head())"
      ]
    },
    {
      "cell_type": "markdown",
      "metadata": {
        "id": "1YXNTJcEpBH8"
      },
      "source": [
        "**Data Loading & Initial Review**"
      ]
    },
    {
      "cell_type": "code",
      "execution_count": 8,
      "metadata": {
        "colab": {
          "base_uri": "https://localhost:8080/"
        },
        "id": "v2cDs8XOPV9O",
        "outputId": "50a25a0e-7b9c-4e2f-d71a-273042c5b12c"
      },
      "outputs": [
        {
          "output_type": "stream",
          "name": "stdout",
          "text": [
            "Dataset Info:\n",
            "<class 'pandas.core.frame.DataFrame'>\n",
            "RangeIndex: 314430 entries, 0 to 314429\n",
            "Data columns (total 12 columns):\n",
            " #   Column         Non-Null Count   Dtype  \n",
            "---  ------         --------------   -----  \n",
            " 0   location_id    314430 non-null  int64  \n",
            " 1   location_name  314430 non-null  object \n",
            " 2   parameter      314430 non-null  object \n",
            " 3   value          314430 non-null  float64\n",
            " 4   unit           314430 non-null  object \n",
            " 5   datetimeUtc    314430 non-null  object \n",
            " 6   datetimeLocal  314430 non-null  object \n",
            " 7   timezone       314430 non-null  object \n",
            " 8   latitude       314430 non-null  float64\n",
            " 9   longitude      314430 non-null  float64\n",
            " 10  owner_name     314430 non-null  object \n",
            " 11  provider       314430 non-null  object \n",
            "dtypes: float64(3), int64(1), object(8)\n",
            "memory usage: 28.8+ MB\n",
            "None\n"
          ]
        }
      ],
      "source": [
        "print(\"Dataset Info:\")\n",
        "print(df.info())"
      ]
    },
    {
      "cell_type": "code",
      "execution_count": 9,
      "metadata": {
        "colab": {
          "base_uri": "https://localhost:8080/"
        },
        "id": "qsaLBsu7P_US",
        "outputId": "faa04312-da85-42e4-eb93-718a2b20b63a"
      },
      "outputs": [
        {
          "output_type": "stream",
          "name": "stdout",
          "text": [
            "\n",
            "First 5 Rows:\n",
            "   location_id               location_name parameter  value unit  \\\n",
            "0         8235  Jahangirpuri, Delhi - DPCC        co   0.84  ppb   \n",
            "1         8235  Jahangirpuri, Delhi - DPCC        co   0.81  ppb   \n",
            "2         8235  Jahangirpuri, Delhi - DPCC        co   0.85  ppb   \n",
            "3         8235  Jahangirpuri, Delhi - DPCC        co   0.92  ppb   \n",
            "4         8235  Jahangirpuri, Delhi - DPCC        co   1.02  ppb   \n",
            "\n",
            "            datetimeUtc              datetimeLocal      timezone  latitude  \\\n",
            "0  2025-05-15T00:15:00Z  2025-05-15T05:45:00+05:30  Asia/Kolkata  28.73282   \n",
            "1  2025-05-15T00:30:00Z  2025-05-15T06:00:00+05:30  Asia/Kolkata  28.73282   \n",
            "2  2025-05-15T00:45:00Z  2025-05-15T06:15:00+05:30  Asia/Kolkata  28.73282   \n",
            "3  2025-05-15T01:00:00Z  2025-05-15T06:30:00+05:30  Asia/Kolkata  28.73282   \n",
            "4  2025-05-15T01:15:00Z  2025-05-15T06:45:00+05:30  Asia/Kolkata  28.73282   \n",
            "\n",
            "   longitude                         owner_name provider  \n",
            "0  77.170633  Delhi Pollution Control Committee     CPCB  \n",
            "1  77.170633  Delhi Pollution Control Committee     CPCB  \n",
            "2  77.170633  Delhi Pollution Control Committee     CPCB  \n",
            "3  77.170633  Delhi Pollution Control Committee     CPCB  \n",
            "4  77.170633  Delhi Pollution Control Committee     CPCB  \n"
          ]
        }
      ],
      "source": [
        "print(\"\\nFirst 5 Rows:\")\n",
        "print(df.head())"
      ]
    },
    {
      "cell_type": "code",
      "execution_count": 10,
      "metadata": {
        "colab": {
          "base_uri": "https://localhost:8080/"
        },
        "id": "zmahD2VOQBjV",
        "outputId": "3ce45f77-05bb-4a64-eb42-97b4243a15d8"
      },
      "outputs": [
        {
          "output_type": "stream",
          "name": "stdout",
          "text": [
            "\n",
            "Unique Location in Dataset:\n",
            "['Jahangirpuri, Delhi - DPCC' 'Wazirpur, Delhi - DPCC'\n",
            " 'Anand Vihar, New Delhi - DPCC' 'Vivek Vihar, Delhi - DPCC'\n",
            " 'Bawana, Delhi - DPCC']\n"
          ]
        }
      ],
      "source": [
        "print(\"\\nUnique Location in Dataset:\")\n",
        "print(df['location_name'].unique())"
      ]
    },
    {
      "cell_type": "code",
      "execution_count": 11,
      "metadata": {
        "colab": {
          "base_uri": "https://localhost:8080/"
        },
        "id": "Z_Y-5AFoQEFP",
        "outputId": "a9920448-3186-40c5-8756-06e006803be4"
      },
      "outputs": [
        {
          "output_type": "stream",
          "name": "stdout",
          "text": [
            "\n",
            "Summary Statistics:\n",
            "         location_id          value       latitude      longitude\n",
            "count  314430.000000  314430.000000  314430.000000  314430.000000\n",
            "mean     6633.116411      79.266428      28.706153      77.202667\n",
            "std      3174.470605     228.197882       0.045134       0.100530\n",
            "min       235.000000       0.000000      28.646835      77.051074\n",
            "25%      6938.000000      10.900000      28.672342      77.165453\n",
            "50%      8235.000000      32.700000      28.699793      77.170633\n",
            "75%      8472.000000      75.000000      28.732820      77.315260\n",
            "max      8915.000000   13600.000000      28.776200      77.316032\n"
          ]
        }
      ],
      "source": [
        "print(\"\\nSummary Statistics:\")\n",
        "print(df.describe())"
      ]
    },
    {
      "cell_type": "markdown",
      "metadata": {
        "id": "pLZABBHBo6Si"
      },
      "source": [
        "**Temporal Data Splitting**"
      ]
    },
    {
      "cell_type": "markdown",
      "metadata": {
        "id": "fs04LzV_cCz8"
      },
      "source": [
        "Convert datetimeUtc to timezone-aware datetime"
      ]
    },
    {
      "cell_type": "code",
      "execution_count": 12,
      "metadata": {
        "id": "Zp7CcyfdQu58"
      },
      "outputs": [],
      "source": [
        "df['datetimeUtc'] = pd.to_datetime(df['datetimeUtc'], utc=True)"
      ]
    },
    {
      "cell_type": "markdown",
      "metadata": {
        "id": "nU9cTCFNcJvf"
      },
      "source": [
        "Sort by datetime"
      ]
    },
    {
      "cell_type": "code",
      "execution_count": 13,
      "metadata": {
        "id": "ls1Bj3ERmIEy"
      },
      "outputs": [],
      "source": [
        "df = df.sort_values('datetimeUtc')"
      ]
    },
    {
      "cell_type": "markdown",
      "metadata": {
        "id": "G7ixSdo0cNVV"
      },
      "source": [
        "Define training and testing date boundaries"
      ]
    },
    {
      "cell_type": "code",
      "execution_count": 14,
      "metadata": {
        "id": "b3iuM-PhmK0N"
      },
      "outputs": [],
      "source": [
        "train_start = pd.Timestamp('2014-01-01', tz='UTC')\n",
        "train_end   = pd.Timestamp('2019-12-31 23:59:59', tz='UTC')\n",
        "\n",
        "test_start  = pd.Timestamp('2020-01-01', tz='UTC')\n",
        "test_end    = pd.Timestamp('2025-06-08 23:59:59', tz='UTC')"
      ]
    },
    {
      "cell_type": "markdown",
      "metadata": {
        "id": "Tu6l-C8_cQD_"
      },
      "source": [
        "Split data"
      ]
    },
    {
      "cell_type": "code",
      "execution_count": 15,
      "metadata": {
        "id": "nF1GpefAmM03"
      },
      "outputs": [],
      "source": [
        "train_df = df[(df['datetimeUtc'] >= train_start) & (df['datetimeUtc'] <= train_end)]\n",
        "test_df  = df[(df['datetimeUtc'] >= test_start)  & (df['datetimeUtc'] <= test_end)]"
      ]
    },
    {
      "cell_type": "markdown",
      "metadata": {
        "id": "ma4MAj8PcUw5"
      },
      "source": [
        "Display results"
      ]
    },
    {
      "cell_type": "code",
      "execution_count": 16,
      "metadata": {
        "colab": {
          "base_uri": "https://localhost:8080/"
        },
        "id": "q6zPCmuemPJg",
        "outputId": "f658b496-39af-460c-d101-8969247d29ca"
      },
      "outputs": [
        {
          "output_type": "stream",
          "name": "stdout",
          "text": [
            "Training Set:\n",
            "Start Date: 2016-02-05 14:15:00+00:00\n",
            "End Date:   2019-07-11 16:45:00+00:00\n",
            "Total Rows: 28126\n",
            "\n",
            "Testing Set:\n",
            "Start Date: 2025-02-18 20:15:00+00:00\n",
            "End Date:   2025-06-08 23:45:00+00:00\n",
            "Total Rows: 286259\n"
          ]
        }
      ],
      "source": [
        "print(\"Training Set:\")\n",
        "print(f\"Start Date: {train_df['datetimeUtc'].min()}\")\n",
        "print(f\"End Date:   {train_df['datetimeUtc'].max()}\")\n",
        "print(f\"Total Rows: {len(train_df)}\")\n",
        "\n",
        "print(\"\\nTesting Set:\")\n",
        "print(f\"Start Date: {test_df['datetimeUtc'].min()}\")\n",
        "print(f\"End Date:   {test_df['datetimeUtc'].max()}\")\n",
        "print(f\"Total Rows: {len(test_df)}\")"
      ]
    },
    {
      "cell_type": "markdown",
      "metadata": {
        "id": "ZEGMVeCJpa8B"
      },
      "source": [
        "# **Phase 2: Feature Engineering**"
      ]
    },
    {
      "cell_type": "markdown",
      "metadata": {
        "id": "zLFzKSy9qHUo"
      },
      "source": [
        "**Temporal Features**"
      ]
    },
    {
      "cell_type": "markdown",
      "metadata": {
        "id": "r4vBkRuscwfg"
      },
      "source": [
        "Extract temporal features"
      ]
    },
    {
      "cell_type": "code",
      "execution_count": 17,
      "metadata": {
        "id": "lxbS9WUunRtK"
      },
      "outputs": [],
      "source": [
        "df['year'] = df['datetimeUtc'].dt.year\n",
        "df['month'] = df['datetimeUtc'].dt.month\n",
        "df['quarter'] = df['datetimeUtc'].dt.quarter\n",
        "df['day'] = df['datetimeUtc'].dt.day\n",
        "df['day_of_week'] = df['datetimeUtc'].dt.dayofweek\n",
        "df['day_of_year'] = df['datetimeUtc'].dt.dayofyear\n",
        "df['is_weekend'] = df['day_of_week'] >= 5"
      ]
    },
    {
      "cell_type": "markdown",
      "metadata": {
        "id": "O9dqViZoc58f"
      },
      "source": [
        "Define season based on month"
      ]
    },
    {
      "cell_type": "code",
      "execution_count": 18,
      "metadata": {
        "id": "NpvfNmfKp3P_"
      },
      "outputs": [],
      "source": [
        "def get_season(month):\n",
        "    if month in [12, 1, 2]:\n",
        "        return 'Winter'\n",
        "    elif month in [3, 4, 5]:\n",
        "        return 'Spring'\n",
        "    elif month in [6, 7, 8]:\n",
        "        return 'Summer'\n",
        "    else:\n",
        "        return 'Fall'\n",
        "\n",
        "df['season'] = df['month'].apply(get_season)"
      ]
    },
    {
      "cell_type": "markdown",
      "metadata": {
        "id": "HztVaOECc-tN"
      },
      "source": [
        "Show a few sample rows"
      ]
    },
    {
      "cell_type": "code",
      "execution_count": 19,
      "metadata": {
        "colab": {
          "base_uri": "https://localhost:8080/"
        },
        "id": "PTd-41gVp6tS",
        "outputId": "80a5b8e4-d976-4c0d-8f2e-f8fcff185874"
      },
      "outputs": [
        {
          "output_type": "stream",
          "name": "stdout",
          "text": [
            "                     datetimeUtc  year  month  quarter  day  day_of_week  \\\n",
            "244430 2016-02-05 14:15:00+00:00  2016      2        1    5            4   \n",
            "253430 2016-02-05 14:15:00+00:00  2016      2        1    5            4   \n",
            "249430 2016-02-05 14:15:00+00:00  2016      2        1    5            4   \n",
            "248430 2016-02-05 14:15:00+00:00  2016      2        1    5            4   \n",
            "245430 2016-02-05 14:15:00+00:00  2016      2        1    5            4   \n",
            "\n",
            "        day_of_year  is_weekend  season  \n",
            "244430           36       False  Winter  \n",
            "253430           36       False  Winter  \n",
            "249430           36       False  Winter  \n",
            "248430           36       False  Winter  \n",
            "245430           36       False  Winter  \n"
          ]
        }
      ],
      "source": [
        "print(df[['datetimeUtc', 'year', 'month', 'quarter', 'day', 'day_of_week', 'day_of_year', 'is_weekend', 'season']].head())"
      ]
    },
    {
      "cell_type": "markdown",
      "metadata": {
        "id": "bILQSL_4qLXf"
      },
      "source": [
        "**Lag Features**"
      ]
    },
    {
      "cell_type": "markdown",
      "metadata": {
        "id": "B7op4R_9dK5r"
      },
      "source": [
        "Keep the columns we need"
      ]
    },
    {
      "cell_type": "code",
      "execution_count": 20,
      "metadata": {
        "id": "YXqRIvBOp-6L"
      },
      "outputs": [],
      "source": [
        "df = df[[\"datetimeUtc\", \"parameter\", \"value\"]]"
      ]
    },
    {
      "cell_type": "markdown",
      "metadata": {
        "id": "TRNYMPUedOZl"
      },
      "source": [
        "Pivot so each pollutant/meteorological variable is its own column"
      ]
    },
    {
      "cell_type": "code",
      "execution_count": 21,
      "metadata": {
        "id": "WLov4rWfql2A"
      },
      "outputs": [],
      "source": [
        "wide = (\n",
        "    df.pivot_table(index=\"datetimeUtc\",\n",
        "                   columns=\"parameter\",\n",
        "                   values=\"value\",\n",
        "                   aggfunc=\"mean\")\n",
        "      .asfreq(\"1h\")\n",
        "      .interpolate(limit=3)\n",
        ")\n"
      ]
    },
    {
      "cell_type": "code",
      "execution_count": 22,
      "metadata": {
        "id": "qlOp3xhNqoHk"
      },
      "outputs": [],
      "source": [
        "TARGET = \"pm25\"\n",
        "PREDICTORS = [\"pm25\", \"pm10\", \"co\", \"no2\",\n",
        "              \"o3\", \"so2\", \"temperature\",\n",
        "              \"relativehumidity\"]\n",
        "PREDICTORS = [c for c in PREDICTORS if c in wide.columns]\n",
        "\n",
        "data = wide[PREDICTORS].copy()"
      ]
    },
    {
      "cell_type": "code",
      "execution_count": 23,
      "metadata": {
        "id": "DYSjyWq5qwgn"
      },
      "outputs": [],
      "source": [
        "LAGS = [1, 2, 6, 12, 24]\n",
        "ROLLS = [3, 6, 24, 72]\n",
        "\n",
        "for col in PREDICTORS:\n",
        "    for l in LAGS:\n",
        "        data[f\"{col}_lag{l}h\"] = data[col].shift(l)\n",
        "\n",
        "    for r in ROLLS:\n",
        "        data[f\"{col}_roll{r}h_mean\"] = (\n",
        "            data[col]\n",
        "            .rolling(window=r, min_periods=r//2, center=False)\n",
        "            .mean()\n",
        "        )"
      ]
    },
    {
      "cell_type": "code",
      "execution_count": 24,
      "metadata": {
        "id": "Z2QymO3drDE3"
      },
      "outputs": [],
      "source": [
        "data = data.dropna().reset_index()"
      ]
    },
    {
      "cell_type": "code",
      "execution_count": 25,
      "metadata": {
        "colab": {
          "base_uri": "https://localhost:8080/"
        },
        "id": "RN6VfTVUrE0E",
        "outputId": "6f50208b-2c07-4c2f-f88b-67b1285207a2"
      },
      "outputs": [
        {
          "output_type": "stream",
          "name": "stdout",
          "text": [
            "\n",
            "✅ Sample of lagged dataset:\n",
            "\n",
            "parameter               datetimeUtc   pm25    pm10      co     no2      o3  \\\n",
            "0         2025-02-20 07:15:00+00:00  69.40  171.60  0.6675  28.775  71.450   \n",
            "1         2025-02-20 08:15:00+00:00  73.50  186.50  0.3950  26.375  68.575   \n",
            "2         2025-02-20 09:15:00+00:00  50.50  159.75  0.5425  23.975  98.150   \n",
            "3         2025-02-20 10:15:00+00:00  43.20  165.20  0.6960  25.040  79.120   \n",
            "4         2025-02-20 11:15:00+00:00  39.60  154.20  0.7250  29.360  72.360   \n",
            "5         2025-02-20 12:15:00+00:00  33.80  143.00  0.8300  31.920  64.500   \n",
            "6         2025-02-20 13:15:00+00:00  35.50  129.75  1.4500  45.475  48.925   \n",
            "7         2025-02-20 14:15:00+00:00  77.00  172.75  1.3675  40.900  43.175   \n",
            "8         2025-02-20 15:15:00+00:00  59.50  147.25  1.3000  43.850  42.800   \n",
            "9         2025-02-20 16:15:00+00:00  59.75  138.25  1.2650  50.175  36.750   \n",
            "\n",
            "parameter        so2  temperature  relativehumidity  pm25_lag1h  ...  \\\n",
            "0          16.500000       22.000             48.75        87.0  ...   \n",
            "1          14.900000       23.275             49.00        69.4  ...   \n",
            "2          13.225000       22.375             47.00        73.5  ...   \n",
            "3          11.960000       22.140             49.20        50.5  ...   \n",
            "4           9.560000       21.540             50.00        43.2  ...   \n",
            "5           9.600000       20.680             53.60        39.6  ...   \n",
            "6          14.733333       19.150             55.50        33.8  ...   \n",
            "7          15.600000       18.700             57.00        35.5  ...   \n",
            "8          13.275000       18.650             55.75        77.0  ...   \n",
            "9          31.100000       18.325             56.75        59.5  ...   \n",
            "\n",
            "parameter  temperature_roll72h_mean  relativehumidity_lag1h  \\\n",
            "0                         19.213056                   53.40   \n",
            "1                         19.322838                   48.75   \n",
            "2                         19.403158                   49.00   \n",
            "3                         19.473333                   47.00   \n",
            "4                         19.525000                   49.20   \n",
            "5                         19.553171                   50.00   \n",
            "6                         19.543571                   53.60   \n",
            "7                         19.523953                   55.50   \n",
            "8                         19.504091                   57.00   \n",
            "9                         19.477889                   55.75   \n",
            "\n",
            "parameter  relativehumidity_lag2h  relativehumidity_lag6h  \\\n",
            "0                           58.25                   78.50   \n",
            "1                           53.40                   75.75   \n",
            "2                           48.75                   70.50   \n",
            "3                           49.00                   63.25   \n",
            "4                           47.00                   58.25   \n",
            "5                           49.20                   53.40   \n",
            "6                           50.00                   48.75   \n",
            "7                           53.60                   49.00   \n",
            "8                           55.50                   47.00   \n",
            "9                           57.00                   49.20   \n",
            "\n",
            "parameter  relativehumidity_lag12h  relativehumidity_lag24h  \\\n",
            "0                            62.50                     39.2   \n",
            "1                            63.50                     38.6   \n",
            "2                            71.00                     38.6   \n",
            "3                            78.50                     38.5   \n",
            "4                            76.75                     41.6   \n",
            "5                            76.25                     44.2   \n",
            "6                            78.50                     47.0   \n",
            "7                            75.75                     49.0   \n",
            "8                            70.50                     52.4   \n",
            "9                            63.25                     52.4   \n",
            "\n",
            "parameter  relativehumidity_roll3h_mean  relativehumidity_roll6h_mean  \\\n",
            "0                             53.466667                     61.650000   \n",
            "1                             50.383333                     57.191667   \n",
            "2                             48.250000                     53.275000   \n",
            "3                             48.400000                     50.933333   \n",
            "4                             48.733333                     49.558333   \n",
            "5                             50.933333                     49.591667   \n",
            "6                             53.033333                     50.716667   \n",
            "7                             55.366667                     52.050000   \n",
            "8                             56.083333                     53.508333   \n",
            "9                             56.500000                     54.766667   \n",
            "\n",
            "parameter  relativehumidity_roll24h_mean  relativehumidity_roll72h_mean  \n",
            "0                              58.058333                      59.740278  \n",
            "1                              58.491667                      59.450000  \n",
            "2                              58.841667                      59.122368  \n",
            "3                              59.287500                      58.867949  \n",
            "4                              59.637500                      58.646250  \n",
            "5                              60.029167                      58.523171  \n",
            "6                              60.383333                      58.451190  \n",
            "7                              60.716667                      58.417442  \n",
            "8                              60.856250                      58.356818  \n",
            "9                              61.037500                      58.321111  \n",
            "\n",
            "[10 rows x 81 columns]\n",
            "\n",
            "✅ Shape of the full dataset: (1313, 81)\n"
          ]
        }
      ],
      "source": [
        "print(\"\\n✅ Sample of lagged dataset:\\n\")\n",
        "print(data.head(10))\n",
        "print(f\"\\n✅ Shape of the full dataset: {data.shape}\")"
      ]
    },
    {
      "cell_type": "markdown",
      "metadata": {
        "id": "MNAl_1VHryHL"
      },
      "source": [
        "**Rolling/Window Statistics**"
      ]
    },
    {
      "cell_type": "markdown",
      "metadata": {
        "id": "yp_A38Ofd8ZF"
      },
      "source": [
        "Pivot to wide format: datetimeUtc x parameter"
      ]
    },
    {
      "cell_type": "code",
      "execution_count": 26,
      "metadata": {
        "id": "tU1EnHpVrTqQ"
      },
      "outputs": [],
      "source": [
        "df_pivot = df.pivot_table(index='datetimeUtc', columns='parameter', values='value', aggfunc='mean')\n",
        "df_pivot = df_pivot.asfreq('1h').interpolate(limit=3)"
      ]
    },
    {
      "cell_type": "markdown",
      "metadata": {
        "id": "yPcumi_veAGb"
      },
      "source": [
        "Select key features for rolling stats"
      ]
    },
    {
      "cell_type": "code",
      "execution_count": 27,
      "metadata": {
        "id": "c6Ub-SPVr7U5"
      },
      "outputs": [],
      "source": [
        "KEY_FEATURES = ['pm25', 'temperature']\n",
        "KEY_FEATURES = [col for col in KEY_FEATURES if col in df_pivot.columns]"
      ]
    },
    {
      "cell_type": "markdown",
      "metadata": {
        "id": "FXqD4o8beC0w"
      },
      "source": [
        "Define rolling windows (in hours: 3-day = 72h, 7-day = 168h)"
      ]
    },
    {
      "cell_type": "code",
      "execution_count": 28,
      "metadata": {
        "id": "2xwPDpHAr_93"
      },
      "outputs": [],
      "source": [
        "ROLL_WINDOWS = [72, 168]"
      ]
    },
    {
      "cell_type": "markdown",
      "metadata": {
        "id": "4Zumb7QIeFUo"
      },
      "source": [
        "Calculate rolling statistics"
      ]
    },
    {
      "cell_type": "code",
      "execution_count": 29,
      "metadata": {
        "id": "b9RrUt0xsCUR"
      },
      "outputs": [],
      "source": [
        "for feature in KEY_FEATURES:\n",
        "    for window in ROLL_WINDOWS:\n",
        "        df_pivot[f'{feature}_roll{window}h_mean'] = df_pivot[feature].rolling(window).mean()\n",
        "        df_pivot[f'{feature}_roll{window}h_median'] = df_pivot[feature].rolling(window).median()\n",
        "        df_pivot[f'{feature}_roll{window}h_std'] = df_pivot[feature].rolling(window).std()"
      ]
    },
    {
      "cell_type": "markdown",
      "metadata": {
        "id": "WFGMva38eHxL"
      },
      "source": [
        "Drop initial NaN rows caused by rolling windows"
      ]
    },
    {
      "cell_type": "code",
      "execution_count": 30,
      "metadata": {
        "id": "QF4TyHLCsEwS"
      },
      "outputs": [],
      "source": [
        "df_rolling_stats = df_pivot.dropna().reset_index()"
      ]
    },
    {
      "cell_type": "markdown",
      "metadata": {
        "id": "AaeVfatkepiv"
      },
      "source": [
        "Show result"
      ]
    },
    {
      "cell_type": "code",
      "execution_count": 31,
      "metadata": {
        "colab": {
          "base_uri": "https://localhost:8080/"
        },
        "id": "sYpi5g5CsH-x",
        "outputId": "c82b1897-b117-4a92-a489-5227bde095c3"
      },
      "outputs": [
        {
          "output_type": "stream",
          "name": "stdout",
          "text": [
            "\n",
            "✅ Rolling statistics sample (first 10 rows):\n",
            "\n",
            "parameter        pm25  temperature  pm25_roll72h_mean  pm25_roll72h_median  \\\n",
            "0          160.250000       17.860         105.026157           106.250000   \n",
            "1          152.000000       17.880         106.116435           110.000000   \n",
            "2          161.750000       17.800         107.231019           113.875000   \n",
            "3          140.750000       17.800         108.029630           115.041667   \n",
            "4          144.000000       17.700         108.314352           115.041667   \n",
            "5          164.500000       18.140         108.873380           115.041667   \n",
            "6          210.333333       17.225         110.173148           115.041667   \n",
            "7          236.250000       18.220         111.725231           115.041667   \n",
            "8          242.500000       19.340         113.499537           118.466667   \n",
            "9          240.750000       21.660         115.357176           122.900000   \n",
            "\n",
            "parameter  pm25_roll72h_std  pm25_roll168h_mean  pm25_roll168h_median  \\\n",
            "0                 41.808310           93.097520                 88.65   \n",
            "1                 41.997724           93.420437                 88.65   \n",
            "2                 42.398197           93.746329                 88.65   \n",
            "3                 42.481582           93.901984                 88.65   \n",
            "4                 42.655072           94.041270                 88.65   \n",
            "5                 43.127995           94.306151                 88.65   \n",
            "6                 44.748459           94.810516                 88.65   \n",
            "7                 47.127160           95.562004                 88.65   \n",
            "8                 49.583481           96.362599                 88.65   \n",
            "9                 51.792790           97.088790                 88.65   \n",
            "\n",
            "parameter  pm25_roll168h_std  temperature_roll72h_mean  \\\n",
            "0                  35.364936                 18.595949   \n",
            "1                  35.654168                 18.637338   \n",
            "2                  36.027299                 18.680046   \n",
            "3                  36.174127                 18.724838   \n",
            "4                  36.322288                 18.771713   \n",
            "5                  36.673288                 18.827477   \n",
            "6                  37.675226                 18.873310   \n",
            "7                  39.207961                 18.923241   \n",
            "8                  40.804156                 18.964769   \n",
            "9                  42.264454                 19.007616   \n",
            "\n",
            "parameter  temperature_roll72h_median  temperature_roll72h_std  \\\n",
            "0                             18.1125                 3.183804   \n",
            "1                             18.1125                 3.154314   \n",
            "2                             18.1125                 3.121240   \n",
            "3                             18.1125                 3.084423   \n",
            "4                             18.1125                 3.041969   \n",
            "5                             18.1325                 2.991978   \n",
            "6                             18.1325                 2.940656   \n",
            "7                             18.1700                 2.897713   \n",
            "8                             18.2100                 2.881697   \n",
            "9                             18.2100                 2.898705   \n",
            "\n",
            "parameter  temperature_roll168h_mean  temperature_roll168h_median  \\\n",
            "0                          18.627877                      18.1225   \n",
            "1                          18.642192                      18.1225   \n",
            "2                          18.656925                      18.1225   \n",
            "3                          18.671806                      18.1225   \n",
            "4                          18.682163                      18.1225   \n",
            "5                          18.694782                      18.1325   \n",
            "6                          18.701716                      18.1325   \n",
            "7                          18.711954                      18.1700   \n",
            "8                          18.722312                      18.2100   \n",
            "9                          18.728472                      18.2100   \n",
            "\n",
            "parameter  temperature_roll168h_std  \n",
            "0                          2.881968  \n",
            "1                          2.872170  \n",
            "2                          2.861380  \n",
            "3                          2.850297  \n",
            "4                          2.843537  \n",
            "5                          2.836348  \n",
            "6                          2.831287  \n",
            "7                          2.826383  \n",
            "8                          2.825472  \n",
            "9                          2.830769  \n"
          ]
        }
      ],
      "source": [
        "print(\"\\n✅ Rolling statistics sample (first 10 rows):\\n\")\n",
        "print(df_rolling_stats[[c for c in df_rolling_stats.columns if any(k in c for k in KEY_FEATURES)]].head(10))"
      ]
    },
    {
      "cell_type": "markdown",
      "metadata": {
        "id": "opbC3RvFsibV"
      },
      "source": [
        "**Interaction Features**"
      ]
    },
    {
      "cell_type": "markdown",
      "metadata": {
        "id": "ycq7GhlmeWmX"
      },
      "source": [
        "Pivot to wide format"
      ]
    },
    {
      "cell_type": "code",
      "execution_count": 32,
      "metadata": {
        "id": "q1d1EtV7sMUR"
      },
      "outputs": [],
      "source": [
        "df_wide = df.pivot_table(index='datetimeUtc', columns='parameter', values='value', aggfunc='mean')\n",
        "df_wide = df_wide.asfreq('1h').interpolate(limit=3)"
      ]
    },
    {
      "cell_type": "markdown",
      "metadata": {
        "id": "YAq4Bl8meZBo"
      },
      "source": [
        "Choose interaction pairs (check availability first)"
      ]
    },
    {
      "cell_type": "code",
      "execution_count": 33,
      "metadata": {
        "id": "O3uhshueszDK"
      },
      "outputs": [],
      "source": [
        "available = df_wide.columns.tolist()\n",
        "\n",
        "INTERACTIONS = [\n",
        "    (\"temperature\", \"relativehumidity\"),\n",
        "    (\"pm25\", \"no2\"),\n",
        "    (\"pm25\", \"so2\"),\n",
        "    (\"o3\", \"temperature\"),\n",
        "    (\"co\", \"no2\")\n",
        "]"
      ]
    },
    {
      "cell_type": "markdown",
      "metadata": {
        "id": "GW1KAb-KecjA"
      },
      "source": [
        "Create interaction features"
      ]
    },
    {
      "cell_type": "code",
      "execution_count": 34,
      "metadata": {
        "id": "N3nV00wbs8ud"
      },
      "outputs": [],
      "source": [
        "for var1, var2 in INTERACTIONS:\n",
        "    if var1 in available and var2 in available:\n",
        "        df_wide[f\"{var1}_x_{var2}\"] = df_wide[var1] * df_wide[var2]"
      ]
    },
    {
      "cell_type": "markdown",
      "metadata": {
        "id": "Gu4nMsiSehKu"
      },
      "source": [
        "Drop rows with NaNs"
      ]
    },
    {
      "cell_type": "code",
      "execution_count": 35,
      "metadata": {
        "id": "RO0-46i6s_ov"
      },
      "outputs": [],
      "source": [
        "df_interactions = df_wide.dropna().reset_index()"
      ]
    },
    {
      "cell_type": "markdown",
      "metadata": {
        "id": "Gf4o9vzyeoJ4"
      },
      "source": [
        "Show result"
      ]
    },
    {
      "cell_type": "code",
      "execution_count": 36,
      "metadata": {
        "colab": {
          "base_uri": "https://localhost:8080/"
        },
        "id": "n-UgQfc5tBii",
        "outputId": "268e0c90-7a04-479f-9223-5ad948ec6ded"
      },
      "outputs": [
        {
          "output_type": "stream",
          "name": "stdout",
          "text": [
            "\n",
            "✅ Interaction features sample (first 10 rows):\n",
            "\n",
            "parameter  temperature_x_relativehumidity  pm25_x_no2   pm25_x_so2  \\\n",
            "0                              1133.54375  6945.13750  1068.733333   \n",
            "1                              1141.71250  5039.70000   845.300000   \n",
            "2                              1147.50000  7632.36000   919.665000   \n",
            "3                              1187.42400  7277.00400   877.968000   \n",
            "4                              1182.27600  7447.20000   859.200000   \n",
            "5                              1162.74400  8003.23200   970.260000   \n",
            "6                              1161.60000  7224.80000  1012.000000   \n",
            "7                              1095.60000  8224.20000  2108.700000   \n",
            "8                              1062.18750  8030.46875  2570.937500   \n",
            "9                              1012.30000  4967.91000  2353.616000   \n",
            "\n",
            "parameter  o3_x_temperature    co_x_no2  \n",
            "0                 71.185000   82.595625  \n",
            "1                 57.213333   70.650000  \n",
            "2                 32.130000   74.458800  \n",
            "3                 90.014400   68.184200  \n",
            "4                 89.712000   63.425320  \n",
            "5                114.989600   54.958500  \n",
            "6                137.610000   74.087040  \n",
            "7                195.800000  104.325500  \n",
            "8                603.281250  101.099375  \n",
            "9               1454.850000   39.107250  \n"
          ]
        }
      ],
      "source": [
        "print(\"\\n✅ Interaction features sample (first 10 rows):\\n\")\n",
        "interaction_cols = [col for col in df_interactions.columns if \"_x_\" in col]\n",
        "print(df_interactions[interaction_cols].head(10))"
      ]
    },
    {
      "cell_type": "markdown",
      "metadata": {
        "id": "K3cxw1bJtMd4"
      },
      "source": [
        "**Encoding Categorical Features**"
      ]
    },
    {
      "cell_type": "markdown",
      "metadata": {
        "id": "fd-HHEt4ewKX"
      },
      "source": [
        "Create 'Season' from month"
      ]
    },
    {
      "cell_type": "code",
      "execution_count": 37,
      "metadata": {
        "id": "Pp_Ql2actD5w"
      },
      "outputs": [],
      "source": [
        " def get_season(month):\n",
        "    if month in [12, 1, 2]:\n",
        "        return 'Winter'\n",
        "    elif month in [3, 4, 5]:\n",
        "        return 'Spring'\n",
        "    elif month in [6, 7, 8]:\n",
        "        return 'Summer'\n",
        "    else:\n",
        "        return 'Autumn'\n",
        "\n",
        "df['Month'] = df['datetimeUtc'].dt.month\n",
        "df['Season'] = df['Month'].apply(get_season)"
      ]
    },
    {
      "cell_type": "markdown",
      "metadata": {
        "id": "Bkk5reM7e1bB"
      },
      "source": [
        "One-Hot Encode 'Season'"
      ]
    },
    {
      "cell_type": "code",
      "execution_count": 38,
      "metadata": {
        "id": "W04jt8butU1_"
      },
      "outputs": [],
      "source": [
        "df_encoded = pd.get_dummies(df, columns=['Season'], prefix='Season')"
      ]
    },
    {
      "cell_type": "markdown",
      "metadata": {
        "id": "UPD8JhsNe8CI"
      },
      "source": [
        "One-Hot Encode 'stationId' if available"
      ]
    },
    {
      "cell_type": "code",
      "execution_count": 39,
      "metadata": {
        "id": "abm1JlOXtXIn"
      },
      "outputs": [],
      "source": [
        "if 'stationId' in df.columns:\n",
        "    df_encoded = pd.get_dummies(df_encoded, columns=['stationId'], prefix='Station')"
      ]
    },
    {
      "cell_type": "markdown",
      "metadata": {
        "id": "HmCKTmt1e-_f"
      },
      "source": [
        "Show result"
      ]
    },
    {
      "cell_type": "code",
      "execution_count": 40,
      "metadata": {
        "colab": {
          "base_uri": "https://localhost:8080/"
        },
        "id": "UEqhs6DMtZF_",
        "outputId": "8e9feccc-0920-400d-a592-3b7e1f6c1c7c"
      },
      "outputs": [
        {
          "output_type": "stream",
          "name": "stdout",
          "text": [
            "\n",
            "✅ One-hot encoded columns:\n",
            "\n",
            "        Season_Autumn  Season_Spring  Season_Summer  Season_Winter\n",
            "244430          False          False          False           True\n",
            "253430          False          False          False           True\n",
            "249430          False          False          False           True\n",
            "248430          False          False          False           True\n",
            "245430          False          False          False           True\n",
            "242304          False          False          False           True\n",
            "249431          False          False          False           True\n",
            "253431          False          False          False           True\n",
            "242305          False          False          False           True\n",
            "245431          False          False          False           True\n"
          ]
        }
      ],
      "source": [
        "print(\"\\n✅ One-hot encoded columns:\\n\")\n",
        "print(df_encoded.filter(like='Season_').head(10))\n",
        "\n",
        "if 'stationId' in df.columns:\n",
        "    print(\"\\n✅ StationID one-hot encoded columns:\\n\")\n",
        "    print(df_encoded.filter(like='Station_').head(10))"
      ]
    },
    {
      "cell_type": "markdown",
      "metadata": {
        "id": "HfACnNh-uSZL"
      },
      "source": [
        "**Handling Missing Values from Feature Creation**"
      ]
    },
    {
      "cell_type": "markdown",
      "metadata": {
        "id": "ZZPtj-g5fMfP"
      },
      "source": [
        "Create lag and rolling features for key variables on PM 2.5 and temperature"
      ]
    },
    {
      "cell_type": "code",
      "execution_count": 41,
      "metadata": {
        "id": "y1jk5qpNz6OX"
      },
      "outputs": [],
      "source": [
        "if 'pm25' in df_wide.columns:\n",
        "    df_wide['pm25_lag1d'] = df_wide['pm25'].shift(24)\n",
        "    df_wide['pm25_3d_avg'] = df_wide['pm25'].rolling(window=72).mean()\n",
        "\n",
        "if 'temperature' in df_wide.columns:\n",
        "    df_wide['temperature_lag1d'] = df_wide['temperature'].shift(24)\n",
        "    df_wide['temperature_7d_std'] = df_wide['temperature'].rolling(window=168).std()"
      ]
    },
    {
      "cell_type": "markdown",
      "metadata": {
        "id": "MHe2rGk0fYy-"
      },
      "source": [
        "Drop rows with NaNs from lag/rolling"
      ]
    },
    {
      "cell_type": "code",
      "execution_count": 42,
      "metadata": {
        "id": "eMAt9R9Wz66z"
      },
      "outputs": [],
      "source": [
        "df_final = df_wide.dropna().reset_index()"
      ]
    },
    {
      "cell_type": "markdown",
      "metadata": {
        "id": "1MPoMsjpfdS6"
      },
      "source": [
        "Adjusted train/test split to retain sufficient training data"
      ]
    },
    {
      "cell_type": "code",
      "execution_count": 43,
      "metadata": {
        "id": "h8wIdr1Tz8ni"
      },
      "outputs": [],
      "source": [
        "split_date = pd.Timestamp('2025-02-26 00:00:00', tz='UTC')\n",
        "train_df = df_final[df_final['datetimeUtc'] < split_date]\n",
        "test_df = df_final[df_final['datetimeUtc'] >= split_date]"
      ]
    },
    {
      "cell_type": "markdown",
      "metadata": {
        "id": "hGKW79FEfg3c"
      },
      "source": [
        "Print summary"
      ]
    },
    {
      "cell_type": "code",
      "execution_count": 44,
      "metadata": {
        "colab": {
          "base_uri": "https://localhost:8080/"
        },
        "id": "MGFknVB5z-wB",
        "outputId": "22dc0ecc-7024-4431-c798-cbf06041a83b"
      },
      "outputs": [
        {
          "output_type": "stream",
          "name": "stdout",
          "text": [
            "✅ Final Training Set: 5 rows (up to 2025-02-25 23:15:00+00:00)\n",
            "✅ Final Testing Set:  593 rows (from 2025-02-26 00:15:00+00:00)\n",
            "\n",
            "Remaining NaNs in train: 0\n",
            "Remaining NaNs in test: 0\n"
          ]
        }
      ],
      "source": [
        "print(f\"✅ Final Training Set: {train_df.shape[0]} rows (up to {train_df['datetimeUtc'].max()})\")\n",
        "print(f\"✅ Final Testing Set:  {test_df.shape[0]} rows (from {test_df['datetimeUtc'].min()})\\n\")\n",
        "\n",
        "print(\"Remaining NaNs in train:\", train_df.isna().sum().sum())\n",
        "print(\"Remaining NaNs in test:\", test_df.isna().sum().sum())"
      ]
    },
    {
      "cell_type": "markdown",
      "metadata": {
        "id": "-jTQROm_flDW"
      },
      "source": [
        "Show some rows"
      ]
    },
    {
      "cell_type": "code",
      "execution_count": 45,
      "metadata": {
        "colab": {
          "base_uri": "https://localhost:8080/"
        },
        "id": "X3NmBFix0B-R",
        "outputId": "50ba8882-3b0a-4a94-d83a-bf1cb39512e8"
      },
      "outputs": [
        {
          "output_type": "stream",
          "name": "stdout",
          "text": [
            "\n",
            "📄 Sample of final train set:\n",
            "parameter               datetimeUtc     co      no     no2    o3   pm10  \\\n",
            "0         2025-02-25 19:15:00+00:00  4.134  235.24  108.44  3.70  463.6   \n",
            "1         2025-02-25 20:15:00+00:00  3.368  207.40  106.66  6.00  386.0   \n",
            "2         2025-02-25 21:15:00+00:00  2.620  128.20   92.00  6.74  361.6   \n",
            "3         2025-02-25 22:15:00+00:00  2.996  225.16   86.98  8.02  325.0   \n",
            "4         2025-02-25 23:15:00+00:00  3.162  231.32   88.38  8.88  355.8   \n",
            "\n",
            "parameter    pm25  relativehumidity     so2  temperature  \\\n",
            "0          160.25              67.2  19.725        17.86   \n",
            "1          152.00              66.8  19.240        17.88   \n",
            "2          161.75              68.0   9.600        17.80   \n",
            "3          140.75              69.0  10.360        17.80   \n",
            "4          144.00              69.8  12.720        17.70   \n",
            "\n",
            "parameter  temperature_x_relativehumidity  pm25_x_no2  pm25_x_so2  \\\n",
            "0                                1200.192   17377.510  3160.93125   \n",
            "1                                1194.384   16212.320  2924.48000   \n",
            "2                                1210.400   14881.000  1552.80000   \n",
            "3                                1228.200   12242.435  1458.17000   \n",
            "4                                1235.460   12726.720  1831.68000   \n",
            "\n",
            "parameter  o3_x_temperature   co_x_no2  pm25_lag1d  pm25_3d_avg  \\\n",
            "0                    66.082  448.29096  140.500000   105.026157   \n",
            "1                   107.280  359.23088  140.666667   106.116435   \n",
            "2                   119.972  241.04000  115.333333   107.231019   \n",
            "3                   142.756  260.59208  105.500000   108.029630   \n",
            "4                   157.176  279.45756  150.666667   108.314352   \n",
            "\n",
            "parameter  temperature_lag1d  temperature_7d_std  \n",
            "0                     15.475            2.881968  \n",
            "1                     15.225            2.872170  \n",
            "2                     15.300            2.861380  \n",
            "3                     15.100            2.850297  \n",
            "4                     14.950            2.843537  \n",
            "\n",
            "📄 Sample of final test set:\n",
            "parameter               datetimeUtc        co       no      no2      o3  \\\n",
            "5         2025-02-26 00:15:00+00:00  3.100000  209.440   93.360  12.140   \n",
            "6         2025-02-26 01:15:00+00:00  2.676667  169.575   89.225   7.175   \n",
            "7         2025-02-26 02:15:00+00:00  2.502000  114.940   95.620   7.800   \n",
            "8         2025-02-26 03:15:00+00:00  1.980000   52.720  102.160   9.720   \n",
            "9         2025-02-26 04:15:00+00:00  2.042000   29.240  100.800  28.100   \n",
            "\n",
            "parameter    pm10        pm25  relativehumidity        so2  temperature  \\\n",
            "5          387.00  164.500000             66.60  31.300000       18.140   \n",
            "6          449.25  210.333333             65.25  10.033333       17.225   \n",
            "7          473.80  236.250000             63.40  21.700000       18.220   \n",
            "8          451.40  242.500000             59.80  23.240000       19.340   \n",
            "9          435.80  240.750000             51.60  30.380000       21.660   \n",
            "\n",
            "parameter  temperature_x_relativehumidity    pm25_x_no2   pm25_x_so2  \\\n",
            "5                              1208.12400  15357.720000  5148.850000   \n",
            "6                              1123.93125  18766.991667  2110.344444   \n",
            "7                              1155.14800  22590.225000  5126.625000   \n",
            "8                              1156.53200  24773.800000  5635.700000   \n",
            "9                              1117.65600  24267.600000  7313.985000   \n",
            "\n",
            "parameter  o3_x_temperature    co_x_no2  pm25_lag1d  pm25_3d_avg  \\\n",
            "5                220.219600  289.416000  141.500000   108.873380   \n",
            "6                123.589375  238.825583  132.000000   110.173148   \n",
            "7                142.116000  239.241240  172.000000   111.725231   \n",
            "8                187.984800  202.276800  169.500000   113.499537   \n",
            "9                608.646000  205.833600  157.333333   115.357176   \n",
            "\n",
            "parameter  temperature_lag1d  temperature_7d_std  \n",
            "5                     14.825            2.836348  \n",
            "6                     16.300            2.831287  \n",
            "7                     15.825            2.826383  \n",
            "8                     17.425            2.825472  \n",
            "9                     20.320            2.830769  \n"
          ]
        }
      ],
      "source": [
        "print(\"\\n📄 Sample of final train set:\")\n",
        "print(train_df.head())\n",
        "\n",
        "print(\"\\n📄 Sample of final test set:\")\n",
        "print(test_df.head())"
      ]
    },
    {
      "cell_type": "markdown",
      "metadata": {
        "id": "FKNwfOpc7Co0"
      },
      "source": [
        "# **Phase 3: Feature Scaling**"
      ]
    },
    {
      "cell_type": "markdown",
      "metadata": {
        "id": "CwHDVvmJ7ONv"
      },
      "source": [
        "**Select and Apply Scaling**"
      ]
    },
    {
      "cell_type": "code",
      "execution_count": 46,
      "metadata": {
        "id": "If_YGElWN8Ml"
      },
      "outputs": [],
      "source": [
        "from sklearn.preprocessing import StandardScaler"
      ]
    },
    {
      "cell_type": "markdown",
      "metadata": {
        "id": "hAIZSTi4f6Ac"
      },
      "source": [
        "Parse datetime"
      ]
    },
    {
      "cell_type": "code",
      "execution_count": 47,
      "metadata": {
        "id": "_Kzt0-xW8TW-"
      },
      "outputs": [],
      "source": [
        "df['datetimeUtc'] = pd.to_datetime(df['datetimeUtc'], utc=True)"
      ]
    },
    {
      "cell_type": "markdown",
      "metadata": {
        "id": "bCNaMOwZf8bw"
      },
      "source": [
        "Sort by datetime"
      ]
    },
    {
      "cell_type": "code",
      "execution_count": 48,
      "metadata": {
        "id": "T8qp8Ij_8aNT"
      },
      "outputs": [],
      "source": [
        "df = df.sort_values('datetimeUtc').reset_index(drop=True)"
      ]
    },
    {
      "cell_type": "markdown",
      "metadata": {
        "id": "AKJqmow5f-iM"
      },
      "source": [
        "Drop rows with missing numeric values"
      ]
    },
    {
      "cell_type": "code",
      "execution_count": 49,
      "metadata": {
        "id": "GvLHE8Ig8dgh"
      },
      "outputs": [],
      "source": [
        "numeric_cols = df.select_dtypes(include='number').columns.tolist()\n",
        "df_clean = df.dropna(subset=numeric_cols).copy()"
      ]
    },
    {
      "cell_type": "markdown",
      "metadata": {
        "id": "FEfnzLxugPaU"
      },
      "source": [
        "Perform 80/20 chronological split"
      ]
    },
    {
      "cell_type": "code",
      "execution_count": 50,
      "metadata": {
        "id": "Ubd_qj6G8fyO"
      },
      "outputs": [],
      "source": [
        "split_idx = int(len(df_clean) * 0.8)\n",
        "split_date = df_clean.loc[split_idx, 'datetimeUtc']\n",
        "\n",
        "train_df = df_clean[df_clean['datetimeUtc'] < split_date]\n",
        "test_df  = df_clean[df_clean['datetimeUtc'] >= split_date]"
      ]
    },
    {
      "cell_type": "markdown",
      "metadata": {
        "id": "jiW4Ih2CgTDR"
      },
      "source": [
        "Scale features"
      ]
    },
    {
      "cell_type": "code",
      "execution_count": 51,
      "metadata": {
        "id": "EjHLWa3X8i-s"
      },
      "outputs": [],
      "source": [
        "features_to_scale = [col for col in numeric_cols if col not in ['target']]\n",
        "scaler = StandardScaler()\n",
        "scaler.fit(train_df[features_to_scale])\n",
        "\n",
        "train_scaled = train_df.copy()\n",
        "test_scaled = test_df.copy()\n",
        "train_scaled[features_to_scale] = scaler.transform(train_df[features_to_scale])\n",
        "test_scaled[features_to_scale]  = scaler.transform(test_df[features_to_scale])"
      ]
    },
    {
      "cell_type": "markdown",
      "metadata": {
        "id": "iW71DiHFgZJ0"
      },
      "source": [
        "Show scaled samples"
      ]
    },
    {
      "cell_type": "code",
      "execution_count": 52,
      "metadata": {
        "colab": {
          "base_uri": "https://localhost:8080/"
        },
        "id": "vTHf3AND8mAr",
        "outputId": "b59ce9e9-78dc-4c40-fab5-42a6d94d9188"
      },
      "outputs": [
        {
          "output_type": "stream",
          "name": "stdout",
          "text": [
            "✅ Scaled Training Data (sample):\n",
            "      value     Month\n",
            "0  0.316245 -0.906403\n",
            "1 -0.225092 -0.906403\n",
            "2  0.180713 -0.906403\n",
            "3  1.389408 -0.906403\n",
            "4 -0.287310 -0.906403\n",
            "\n",
            "✅ Scaled Testing Data (sample):\n",
            "           value    Month\n",
            "251532  0.604747  0.54147\n",
            "251533 -0.338313  0.54147\n",
            "251534 -0.323372  0.54147\n",
            "251535 -0.314654  0.54147\n",
            "251536 -0.274232  0.54147\n"
          ]
        }
      ],
      "source": [
        "print(\"✅ Scaled Training Data (sample):\")\n",
        "print(train_scaled[features_to_scale].head())\n",
        "\n",
        "print(\"\\n✅ Scaled Testing Data (sample):\")\n",
        "print(test_scaled[features_to_scale].head())"
      ]
    },
    {
      "cell_type": "markdown",
      "metadata": {
        "id": "T8KfgLDn-Dy5"
      },
      "source": [
        "# **Phase 4: Model Development & Training (Using Traditional ML Models)**"
      ]
    },
    {
      "cell_type": "markdown",
      "metadata": {
        "id": "tUtTks5s_HrI"
      },
      "source": [
        "**Linear Regression**"
      ]
    },
    {
      "cell_type": "code",
      "execution_count": 53,
      "metadata": {
        "id": "Ifp3vv598nPw"
      },
      "outputs": [],
      "source": [
        "import pandas as pd\n",
        "import numpy as np\n",
        "from sklearn.linear_model import LinearRegression\n",
        "from sklearn.preprocessing import StandardScaler\n",
        "from sklearn.metrics import mean_absolute_error, mean_squared_error, r2_score"
      ]
    },
    {
      "cell_type": "code",
      "execution_count": 54,
      "metadata": {
        "id": "oT3v_ztyg1Us"
      },
      "outputs": [],
      "source": [
        "df_long = df"
      ]
    },
    {
      "cell_type": "markdown",
      "metadata": {
        "id": "jjokjVnShA9E"
      },
      "source": [
        "Pivot to wide format"
      ]
    },
    {
      "cell_type": "code",
      "execution_count": 55,
      "metadata": {
        "id": "7jeS_aj4-R6o"
      },
      "outputs": [],
      "source": [
        "df_wide = (\n",
        "    df_long\n",
        "    .pivot_table(index='datetimeUtc',\n",
        "                 columns='parameter',\n",
        "                 values='value')\n",
        "    .reset_index()\n",
        ")"
      ]
    },
    {
      "cell_type": "markdown",
      "metadata": {
        "id": "1qT9aw2RhE-s"
      },
      "source": [
        "Rename columns for consistency"
      ]
    },
    {
      "cell_type": "code",
      "execution_count": 56,
      "metadata": {
        "id": "b3SISpy5_S9N"
      },
      "outputs": [],
      "source": [
        "df_wide.columns = [col.lower().replace('.', '').replace(' ', '_')\n",
        "                   if col != 'datetimeUtc' else col\n",
        "                   for col in df_wide.columns]"
      ]
    },
    {
      "cell_type": "markdown",
      "metadata": {
        "id": "AHXiXe91hIk3"
      },
      "source": [
        "Now 'pm25' exists ─ create lag/rolling features"
      ]
    },
    {
      "cell_type": "code",
      "execution_count": 57,
      "metadata": {
        "id": "nX97Ez6QAZF2"
      },
      "outputs": [],
      "source": [
        "df_wide['pm25_lag1d']   = df_wide['pm25'].shift(24)\n",
        "df_wide['pm25_3d_avg']  = df_wide['pm25'].rolling(window=72).mean()\n",
        "\n",
        "if 'temperature' in df_wide.columns:\n",
        "    df_wide['temperature_lag1d'] = df_wide['temperature'].shift(24)\n",
        "    df_wide['temperature_7d_std'] = df_wide['temperature'].rolling(window=168).std()"
      ]
    },
    {
      "cell_type": "markdown",
      "metadata": {
        "id": "ENA7k_jrhLo6"
      },
      "source": [
        "Remove the initial NaNs created by lag/rolling"
      ]
    },
    {
      "cell_type": "code",
      "execution_count": 58,
      "metadata": {
        "id": "1IMe8-sUAcC6"
      },
      "outputs": [],
      "source": [
        "df_wide.dropna(inplace=True)"
      ]
    },
    {
      "cell_type": "markdown",
      "metadata": {
        "id": "_CVogCm2hQ3B"
      },
      "source": [
        "df_wide is now ready for train/test split & modeling"
      ]
    },
    {
      "cell_type": "code",
      "execution_count": 59,
      "metadata": {
        "colab": {
          "base_uri": "https://localhost:8080/"
        },
        "id": "vgcyOh0NAiRt",
        "outputId": "e783fd6f-548a-4e52-8875-9d56418296ef"
      },
      "outputs": [
        {
          "output_type": "stream",
          "name": "stdout",
          "text": [
            "                   datetimeUtc        co      no     no2      o3    pm10  \\\n",
            "5602 2025-02-20 14:45:00+00:00  1.400000  10.375  47.000  43.425  147.25   \n",
            "5603 2025-02-20 15:00:00+00:00  1.310000   8.625  44.600  41.975  147.25   \n",
            "5604 2025-02-20 15:15:00+00:00  1.300000   5.450  43.850  42.800  147.25   \n",
            "5605 2025-02-20 15:30:00+00:00  1.256667  10.600  44.525  39.900  138.50   \n",
            "5606 2025-02-20 15:45:00+00:00  1.200000   7.400  49.325  35.625  138.25   \n",
            "\n",
            "       pm25  relativehumidity     so2  temperature  pm25_lag1d  pm25_3d_avg  \\\n",
            "5602  59.50             56.50  12.800       18.725       54.00    81.250000   \n",
            "5603  59.50             56.25  12.000       18.725       50.50    80.766204   \n",
            "5604  59.50             55.75  13.275       18.650       50.50    80.282407   \n",
            "5605  65.50             56.00  15.450       18.550       44.60    80.006944   \n",
            "5606  59.75             56.25  15.475       18.450       43.75    79.531250   \n",
            "\n",
            "      temperature_lag1d  temperature_7d_std  \n",
            "5602             23.180            2.783008  \n",
            "5603             22.525            2.765465  \n",
            "5604             22.375            2.746911  \n",
            "5605             23.300            2.727610  \n",
            "5606             23.900            2.708049  \n"
          ]
        }
      ],
      "source": [
        "print(df_wide.head())"
      ]
    },
    {
      "cell_type": "markdown",
      "metadata": {
        "id": "e0PwB4xQhUjF"
      },
      "source": [
        "Select features"
      ]
    },
    {
      "cell_type": "code",
      "execution_count": 60,
      "metadata": {
        "id": "dJOjX0skAkzO"
      },
      "outputs": [],
      "source": [
        "features = ['pm25_lag1d', 'pm25_3d_avg', 'temperature_lag1d', 'temperature_7d_std']\n",
        "target = 'pm25'"
      ]
    },
    {
      "cell_type": "markdown",
      "metadata": {
        "id": "t94EcJ4Whdha"
      },
      "source": [
        "Use df_final (after lag/rolling feature creation and dropna)"
      ]
    },
    {
      "cell_type": "code",
      "execution_count": 61,
      "metadata": {
        "id": "8Leo1TUEAvfy"
      },
      "outputs": [],
      "source": [
        "split_date = pd.Timestamp('2025-02-26 00:00:00', tz='UTC')\n",
        "train_df = df_final[df_final['datetimeUtc'] < split_date]\n",
        "test_df = df_final[df_final['datetimeUtc'] >= split_date]"
      ]
    },
    {
      "cell_type": "markdown",
      "metadata": {
        "id": "u0ilY9YPhgxt"
      },
      "source": [
        "Split into features and target"
      ]
    },
    {
      "cell_type": "code",
      "execution_count": 62,
      "metadata": {
        "id": "wHWwJexrAxlA"
      },
      "outputs": [],
      "source": [
        "X_train = train_df[features]\n",
        "X_test = test_df[features]\n",
        "y_train = train_df[target]\n",
        "y_test = test_df[target]"
      ]
    },
    {
      "cell_type": "code",
      "execution_count": 63,
      "metadata": {
        "colab": {
          "base_uri": "https://localhost:8080/"
        },
        "id": "MR9zqmi7BL4k",
        "outputId": "1fc8fd88-d2a1-4f99-b003-ea587c7fe5ad"
      },
      "outputs": [
        {
          "output_type": "stream",
          "name": "stdout",
          "text": [
            "✅ Training Features Shape: (5, 4)\n",
            "✅ Testing Features Shape: (593, 4)\n"
          ]
        }
      ],
      "source": [
        "print(\"✅ Training Features Shape:\", X_train.shape)\n",
        "print(\"✅ Testing Features Shape:\", X_test.shape)"
      ]
    },
    {
      "cell_type": "markdown",
      "metadata": {
        "id": "yAJ0e-Crhltz"
      },
      "source": [
        "Scaling"
      ]
    },
    {
      "cell_type": "code",
      "execution_count": 64,
      "metadata": {
        "id": "AoKteQYyBN-c"
      },
      "outputs": [],
      "source": [
        "scaler = StandardScaler()\n",
        "X_train_scaled = scaler.fit_transform(X_train)\n",
        "X_test_scaled = scaler.transform(X_test)"
      ]
    },
    {
      "cell_type": "markdown",
      "metadata": {
        "id": "YMoA8sSMhpfb"
      },
      "source": [
        "Train Linear Regression (Baseline Model)"
      ]
    },
    {
      "cell_type": "code",
      "execution_count": 65,
      "metadata": {
        "colab": {
          "base_uri": "https://localhost:8080/",
          "height": 80
        },
        "id": "3kvxHpH1BU4e",
        "outputId": "1275d2b5-efcd-4be5-fab4-eaba61752acc"
      },
      "outputs": [
        {
          "output_type": "execute_result",
          "data": {
            "text/plain": [
              "LinearRegression()"
            ],
            "text/html": [
              "<style>#sk-container-id-1 {\n",
              "  /* Definition of color scheme common for light and dark mode */\n",
              "  --sklearn-color-text: #000;\n",
              "  --sklearn-color-text-muted: #666;\n",
              "  --sklearn-color-line: gray;\n",
              "  /* Definition of color scheme for unfitted estimators */\n",
              "  --sklearn-color-unfitted-level-0: #fff5e6;\n",
              "  --sklearn-color-unfitted-level-1: #f6e4d2;\n",
              "  --sklearn-color-unfitted-level-2: #ffe0b3;\n",
              "  --sklearn-color-unfitted-level-3: chocolate;\n",
              "  /* Definition of color scheme for fitted estimators */\n",
              "  --sklearn-color-fitted-level-0: #f0f8ff;\n",
              "  --sklearn-color-fitted-level-1: #d4ebff;\n",
              "  --sklearn-color-fitted-level-2: #b3dbfd;\n",
              "  --sklearn-color-fitted-level-3: cornflowerblue;\n",
              "\n",
              "  /* Specific color for light theme */\n",
              "  --sklearn-color-text-on-default-background: var(--sg-text-color, var(--theme-code-foreground, var(--jp-content-font-color1, black)));\n",
              "  --sklearn-color-background: var(--sg-background-color, var(--theme-background, var(--jp-layout-color0, white)));\n",
              "  --sklearn-color-border-box: var(--sg-text-color, var(--theme-code-foreground, var(--jp-content-font-color1, black)));\n",
              "  --sklearn-color-icon: #696969;\n",
              "\n",
              "  @media (prefers-color-scheme: dark) {\n",
              "    /* Redefinition of color scheme for dark theme */\n",
              "    --sklearn-color-text-on-default-background: var(--sg-text-color, var(--theme-code-foreground, var(--jp-content-font-color1, white)));\n",
              "    --sklearn-color-background: var(--sg-background-color, var(--theme-background, var(--jp-layout-color0, #111)));\n",
              "    --sklearn-color-border-box: var(--sg-text-color, var(--theme-code-foreground, var(--jp-content-font-color1, white)));\n",
              "    --sklearn-color-icon: #878787;\n",
              "  }\n",
              "}\n",
              "\n",
              "#sk-container-id-1 {\n",
              "  color: var(--sklearn-color-text);\n",
              "}\n",
              "\n",
              "#sk-container-id-1 pre {\n",
              "  padding: 0;\n",
              "}\n",
              "\n",
              "#sk-container-id-1 input.sk-hidden--visually {\n",
              "  border: 0;\n",
              "  clip: rect(1px 1px 1px 1px);\n",
              "  clip: rect(1px, 1px, 1px, 1px);\n",
              "  height: 1px;\n",
              "  margin: -1px;\n",
              "  overflow: hidden;\n",
              "  padding: 0;\n",
              "  position: absolute;\n",
              "  width: 1px;\n",
              "}\n",
              "\n",
              "#sk-container-id-1 div.sk-dashed-wrapped {\n",
              "  border: 1px dashed var(--sklearn-color-line);\n",
              "  margin: 0 0.4em 0.5em 0.4em;\n",
              "  box-sizing: border-box;\n",
              "  padding-bottom: 0.4em;\n",
              "  background-color: var(--sklearn-color-background);\n",
              "}\n",
              "\n",
              "#sk-container-id-1 div.sk-container {\n",
              "  /* jupyter's `normalize.less` sets `[hidden] { display: none; }`\n",
              "     but bootstrap.min.css set `[hidden] { display: none !important; }`\n",
              "     so we also need the `!important` here to be able to override the\n",
              "     default hidden behavior on the sphinx rendered scikit-learn.org.\n",
              "     See: https://github.com/scikit-learn/scikit-learn/issues/21755 */\n",
              "  display: inline-block !important;\n",
              "  position: relative;\n",
              "}\n",
              "\n",
              "#sk-container-id-1 div.sk-text-repr-fallback {\n",
              "  display: none;\n",
              "}\n",
              "\n",
              "div.sk-parallel-item,\n",
              "div.sk-serial,\n",
              "div.sk-item {\n",
              "  /* draw centered vertical line to link estimators */\n",
              "  background-image: linear-gradient(var(--sklearn-color-text-on-default-background), var(--sklearn-color-text-on-default-background));\n",
              "  background-size: 2px 100%;\n",
              "  background-repeat: no-repeat;\n",
              "  background-position: center center;\n",
              "}\n",
              "\n",
              "/* Parallel-specific style estimator block */\n",
              "\n",
              "#sk-container-id-1 div.sk-parallel-item::after {\n",
              "  content: \"\";\n",
              "  width: 100%;\n",
              "  border-bottom: 2px solid var(--sklearn-color-text-on-default-background);\n",
              "  flex-grow: 1;\n",
              "}\n",
              "\n",
              "#sk-container-id-1 div.sk-parallel {\n",
              "  display: flex;\n",
              "  align-items: stretch;\n",
              "  justify-content: center;\n",
              "  background-color: var(--sklearn-color-background);\n",
              "  position: relative;\n",
              "}\n",
              "\n",
              "#sk-container-id-1 div.sk-parallel-item {\n",
              "  display: flex;\n",
              "  flex-direction: column;\n",
              "}\n",
              "\n",
              "#sk-container-id-1 div.sk-parallel-item:first-child::after {\n",
              "  align-self: flex-end;\n",
              "  width: 50%;\n",
              "}\n",
              "\n",
              "#sk-container-id-1 div.sk-parallel-item:last-child::after {\n",
              "  align-self: flex-start;\n",
              "  width: 50%;\n",
              "}\n",
              "\n",
              "#sk-container-id-1 div.sk-parallel-item:only-child::after {\n",
              "  width: 0;\n",
              "}\n",
              "\n",
              "/* Serial-specific style estimator block */\n",
              "\n",
              "#sk-container-id-1 div.sk-serial {\n",
              "  display: flex;\n",
              "  flex-direction: column;\n",
              "  align-items: center;\n",
              "  background-color: var(--sklearn-color-background);\n",
              "  padding-right: 1em;\n",
              "  padding-left: 1em;\n",
              "}\n",
              "\n",
              "\n",
              "/* Toggleable style: style used for estimator/Pipeline/ColumnTransformer box that is\n",
              "clickable and can be expanded/collapsed.\n",
              "- Pipeline and ColumnTransformer use this feature and define the default style\n",
              "- Estimators will overwrite some part of the style using the `sk-estimator` class\n",
              "*/\n",
              "\n",
              "/* Pipeline and ColumnTransformer style (default) */\n",
              "\n",
              "#sk-container-id-1 div.sk-toggleable {\n",
              "  /* Default theme specific background. It is overwritten whether we have a\n",
              "  specific estimator or a Pipeline/ColumnTransformer */\n",
              "  background-color: var(--sklearn-color-background);\n",
              "}\n",
              "\n",
              "/* Toggleable label */\n",
              "#sk-container-id-1 label.sk-toggleable__label {\n",
              "  cursor: pointer;\n",
              "  display: flex;\n",
              "  width: 100%;\n",
              "  margin-bottom: 0;\n",
              "  padding: 0.5em;\n",
              "  box-sizing: border-box;\n",
              "  text-align: center;\n",
              "  align-items: start;\n",
              "  justify-content: space-between;\n",
              "  gap: 0.5em;\n",
              "}\n",
              "\n",
              "#sk-container-id-1 label.sk-toggleable__label .caption {\n",
              "  font-size: 0.6rem;\n",
              "  font-weight: lighter;\n",
              "  color: var(--sklearn-color-text-muted);\n",
              "}\n",
              "\n",
              "#sk-container-id-1 label.sk-toggleable__label-arrow:before {\n",
              "  /* Arrow on the left of the label */\n",
              "  content: \"▸\";\n",
              "  float: left;\n",
              "  margin-right: 0.25em;\n",
              "  color: var(--sklearn-color-icon);\n",
              "}\n",
              "\n",
              "#sk-container-id-1 label.sk-toggleable__label-arrow:hover:before {\n",
              "  color: var(--sklearn-color-text);\n",
              "}\n",
              "\n",
              "/* Toggleable content - dropdown */\n",
              "\n",
              "#sk-container-id-1 div.sk-toggleable__content {\n",
              "  max-height: 0;\n",
              "  max-width: 0;\n",
              "  overflow: hidden;\n",
              "  text-align: left;\n",
              "  /* unfitted */\n",
              "  background-color: var(--sklearn-color-unfitted-level-0);\n",
              "}\n",
              "\n",
              "#sk-container-id-1 div.sk-toggleable__content.fitted {\n",
              "  /* fitted */\n",
              "  background-color: var(--sklearn-color-fitted-level-0);\n",
              "}\n",
              "\n",
              "#sk-container-id-1 div.sk-toggleable__content pre {\n",
              "  margin: 0.2em;\n",
              "  border-radius: 0.25em;\n",
              "  color: var(--sklearn-color-text);\n",
              "  /* unfitted */\n",
              "  background-color: var(--sklearn-color-unfitted-level-0);\n",
              "}\n",
              "\n",
              "#sk-container-id-1 div.sk-toggleable__content.fitted pre {\n",
              "  /* unfitted */\n",
              "  background-color: var(--sklearn-color-fitted-level-0);\n",
              "}\n",
              "\n",
              "#sk-container-id-1 input.sk-toggleable__control:checked~div.sk-toggleable__content {\n",
              "  /* Expand drop-down */\n",
              "  max-height: 200px;\n",
              "  max-width: 100%;\n",
              "  overflow: auto;\n",
              "}\n",
              "\n",
              "#sk-container-id-1 input.sk-toggleable__control:checked~label.sk-toggleable__label-arrow:before {\n",
              "  content: \"▾\";\n",
              "}\n",
              "\n",
              "/* Pipeline/ColumnTransformer-specific style */\n",
              "\n",
              "#sk-container-id-1 div.sk-label input.sk-toggleable__control:checked~label.sk-toggleable__label {\n",
              "  color: var(--sklearn-color-text);\n",
              "  background-color: var(--sklearn-color-unfitted-level-2);\n",
              "}\n",
              "\n",
              "#sk-container-id-1 div.sk-label.fitted input.sk-toggleable__control:checked~label.sk-toggleable__label {\n",
              "  background-color: var(--sklearn-color-fitted-level-2);\n",
              "}\n",
              "\n",
              "/* Estimator-specific style */\n",
              "\n",
              "/* Colorize estimator box */\n",
              "#sk-container-id-1 div.sk-estimator input.sk-toggleable__control:checked~label.sk-toggleable__label {\n",
              "  /* unfitted */\n",
              "  background-color: var(--sklearn-color-unfitted-level-2);\n",
              "}\n",
              "\n",
              "#sk-container-id-1 div.sk-estimator.fitted input.sk-toggleable__control:checked~label.sk-toggleable__label {\n",
              "  /* fitted */\n",
              "  background-color: var(--sklearn-color-fitted-level-2);\n",
              "}\n",
              "\n",
              "#sk-container-id-1 div.sk-label label.sk-toggleable__label,\n",
              "#sk-container-id-1 div.sk-label label {\n",
              "  /* The background is the default theme color */\n",
              "  color: var(--sklearn-color-text-on-default-background);\n",
              "}\n",
              "\n",
              "/* On hover, darken the color of the background */\n",
              "#sk-container-id-1 div.sk-label:hover label.sk-toggleable__label {\n",
              "  color: var(--sklearn-color-text);\n",
              "  background-color: var(--sklearn-color-unfitted-level-2);\n",
              "}\n",
              "\n",
              "/* Label box, darken color on hover, fitted */\n",
              "#sk-container-id-1 div.sk-label.fitted:hover label.sk-toggleable__label.fitted {\n",
              "  color: var(--sklearn-color-text);\n",
              "  background-color: var(--sklearn-color-fitted-level-2);\n",
              "}\n",
              "\n",
              "/* Estimator label */\n",
              "\n",
              "#sk-container-id-1 div.sk-label label {\n",
              "  font-family: monospace;\n",
              "  font-weight: bold;\n",
              "  display: inline-block;\n",
              "  line-height: 1.2em;\n",
              "}\n",
              "\n",
              "#sk-container-id-1 div.sk-label-container {\n",
              "  text-align: center;\n",
              "}\n",
              "\n",
              "/* Estimator-specific */\n",
              "#sk-container-id-1 div.sk-estimator {\n",
              "  font-family: monospace;\n",
              "  border: 1px dotted var(--sklearn-color-border-box);\n",
              "  border-radius: 0.25em;\n",
              "  box-sizing: border-box;\n",
              "  margin-bottom: 0.5em;\n",
              "  /* unfitted */\n",
              "  background-color: var(--sklearn-color-unfitted-level-0);\n",
              "}\n",
              "\n",
              "#sk-container-id-1 div.sk-estimator.fitted {\n",
              "  /* fitted */\n",
              "  background-color: var(--sklearn-color-fitted-level-0);\n",
              "}\n",
              "\n",
              "/* on hover */\n",
              "#sk-container-id-1 div.sk-estimator:hover {\n",
              "  /* unfitted */\n",
              "  background-color: var(--sklearn-color-unfitted-level-2);\n",
              "}\n",
              "\n",
              "#sk-container-id-1 div.sk-estimator.fitted:hover {\n",
              "  /* fitted */\n",
              "  background-color: var(--sklearn-color-fitted-level-2);\n",
              "}\n",
              "\n",
              "/* Specification for estimator info (e.g. \"i\" and \"?\") */\n",
              "\n",
              "/* Common style for \"i\" and \"?\" */\n",
              "\n",
              ".sk-estimator-doc-link,\n",
              "a:link.sk-estimator-doc-link,\n",
              "a:visited.sk-estimator-doc-link {\n",
              "  float: right;\n",
              "  font-size: smaller;\n",
              "  line-height: 1em;\n",
              "  font-family: monospace;\n",
              "  background-color: var(--sklearn-color-background);\n",
              "  border-radius: 1em;\n",
              "  height: 1em;\n",
              "  width: 1em;\n",
              "  text-decoration: none !important;\n",
              "  margin-left: 0.5em;\n",
              "  text-align: center;\n",
              "  /* unfitted */\n",
              "  border: var(--sklearn-color-unfitted-level-1) 1pt solid;\n",
              "  color: var(--sklearn-color-unfitted-level-1);\n",
              "}\n",
              "\n",
              ".sk-estimator-doc-link.fitted,\n",
              "a:link.sk-estimator-doc-link.fitted,\n",
              "a:visited.sk-estimator-doc-link.fitted {\n",
              "  /* fitted */\n",
              "  border: var(--sklearn-color-fitted-level-1) 1pt solid;\n",
              "  color: var(--sklearn-color-fitted-level-1);\n",
              "}\n",
              "\n",
              "/* On hover */\n",
              "div.sk-estimator:hover .sk-estimator-doc-link:hover,\n",
              ".sk-estimator-doc-link:hover,\n",
              "div.sk-label-container:hover .sk-estimator-doc-link:hover,\n",
              ".sk-estimator-doc-link:hover {\n",
              "  /* unfitted */\n",
              "  background-color: var(--sklearn-color-unfitted-level-3);\n",
              "  color: var(--sklearn-color-background);\n",
              "  text-decoration: none;\n",
              "}\n",
              "\n",
              "div.sk-estimator.fitted:hover .sk-estimator-doc-link.fitted:hover,\n",
              ".sk-estimator-doc-link.fitted:hover,\n",
              "div.sk-label-container:hover .sk-estimator-doc-link.fitted:hover,\n",
              ".sk-estimator-doc-link.fitted:hover {\n",
              "  /* fitted */\n",
              "  background-color: var(--sklearn-color-fitted-level-3);\n",
              "  color: var(--sklearn-color-background);\n",
              "  text-decoration: none;\n",
              "}\n",
              "\n",
              "/* Span, style for the box shown on hovering the info icon */\n",
              ".sk-estimator-doc-link span {\n",
              "  display: none;\n",
              "  z-index: 9999;\n",
              "  position: relative;\n",
              "  font-weight: normal;\n",
              "  right: .2ex;\n",
              "  padding: .5ex;\n",
              "  margin: .5ex;\n",
              "  width: min-content;\n",
              "  min-width: 20ex;\n",
              "  max-width: 50ex;\n",
              "  color: var(--sklearn-color-text);\n",
              "  box-shadow: 2pt 2pt 4pt #999;\n",
              "  /* unfitted */\n",
              "  background: var(--sklearn-color-unfitted-level-0);\n",
              "  border: .5pt solid var(--sklearn-color-unfitted-level-3);\n",
              "}\n",
              "\n",
              ".sk-estimator-doc-link.fitted span {\n",
              "  /* fitted */\n",
              "  background: var(--sklearn-color-fitted-level-0);\n",
              "  border: var(--sklearn-color-fitted-level-3);\n",
              "}\n",
              "\n",
              ".sk-estimator-doc-link:hover span {\n",
              "  display: block;\n",
              "}\n",
              "\n",
              "/* \"?\"-specific style due to the `<a>` HTML tag */\n",
              "\n",
              "#sk-container-id-1 a.estimator_doc_link {\n",
              "  float: right;\n",
              "  font-size: 1rem;\n",
              "  line-height: 1em;\n",
              "  font-family: monospace;\n",
              "  background-color: var(--sklearn-color-background);\n",
              "  border-radius: 1rem;\n",
              "  height: 1rem;\n",
              "  width: 1rem;\n",
              "  text-decoration: none;\n",
              "  /* unfitted */\n",
              "  color: var(--sklearn-color-unfitted-level-1);\n",
              "  border: var(--sklearn-color-unfitted-level-1) 1pt solid;\n",
              "}\n",
              "\n",
              "#sk-container-id-1 a.estimator_doc_link.fitted {\n",
              "  /* fitted */\n",
              "  border: var(--sklearn-color-fitted-level-1) 1pt solid;\n",
              "  color: var(--sklearn-color-fitted-level-1);\n",
              "}\n",
              "\n",
              "/* On hover */\n",
              "#sk-container-id-1 a.estimator_doc_link:hover {\n",
              "  /* unfitted */\n",
              "  background-color: var(--sklearn-color-unfitted-level-3);\n",
              "  color: var(--sklearn-color-background);\n",
              "  text-decoration: none;\n",
              "}\n",
              "\n",
              "#sk-container-id-1 a.estimator_doc_link.fitted:hover {\n",
              "  /* fitted */\n",
              "  background-color: var(--sklearn-color-fitted-level-3);\n",
              "}\n",
              "</style><div id=\"sk-container-id-1\" class=\"sk-top-container\"><div class=\"sk-text-repr-fallback\"><pre>LinearRegression()</pre><b>In a Jupyter environment, please rerun this cell to show the HTML representation or trust the notebook. <br />On GitHub, the HTML representation is unable to render, please try loading this page with nbviewer.org.</b></div><div class=\"sk-container\" hidden><div class=\"sk-item\"><div class=\"sk-estimator fitted sk-toggleable\"><input class=\"sk-toggleable__control sk-hidden--visually\" id=\"sk-estimator-id-1\" type=\"checkbox\" checked><label for=\"sk-estimator-id-1\" class=\"sk-toggleable__label fitted sk-toggleable__label-arrow\"><div><div>LinearRegression</div></div><div><a class=\"sk-estimator-doc-link fitted\" rel=\"noreferrer\" target=\"_blank\" href=\"https://scikit-learn.org/1.6/modules/generated/sklearn.linear_model.LinearRegression.html\">?<span>Documentation for LinearRegression</span></a><span class=\"sk-estimator-doc-link fitted\">i<span>Fitted</span></span></div></label><div class=\"sk-toggleable__content fitted\"><pre>LinearRegression()</pre></div> </div></div></div></div>"
            ]
          },
          "metadata": {},
          "execution_count": 65
        }
      ],
      "source": [
        "baseline_model = LinearRegression()\n",
        "baseline_model.fit(X_train_scaled, y_train)"
      ]
    },
    {
      "cell_type": "markdown",
      "metadata": {
        "id": "IZY3buGdhsTa"
      },
      "source": [
        "Predictions & Evaluation\n"
      ]
    },
    {
      "cell_type": "code",
      "execution_count": 66,
      "metadata": {
        "id": "xD3xcrrKBXUU"
      },
      "outputs": [],
      "source": [
        "y_pred = baseline_model.predict(X_test_scaled)\n",
        "mae = mean_absolute_error(y_test, y_pred)\n",
        "rmse = np.sqrt(mean_squared_error(y_test, y_pred))\n",
        "r2 = r2_score(y_test, y_pred)"
      ]
    },
    {
      "cell_type": "markdown",
      "metadata": {
        "id": "KcpShd_ghvry"
      },
      "source": [
        "Print Results"
      ]
    },
    {
      "cell_type": "code",
      "execution_count": 67,
      "metadata": {
        "colab": {
          "base_uri": "https://localhost:8080/"
        },
        "id": "z13xArhFBcP9",
        "outputId": "bcb9791a-d135-46d8-dc82-3926c28d676f"
      },
      "outputs": [
        {
          "output_type": "stream",
          "name": "stdout",
          "text": [
            "🔹 Linear Regression (Baseline) Performance:\n",
            "MAE  : 1110.22\n",
            "RMSE : 1504.79\n",
            "R²   : -897.3760\n"
          ]
        }
      ],
      "source": [
        "print(\"🔹 Linear Regression (Baseline) Performance:\")\n",
        "print(f\"MAE  : {mae:.2f}\")\n",
        "print(f\"RMSE : {rmse:.2f}\")\n",
        "print(f\"R²   : {r2:.4f}\")"
      ]
    },
    {
      "cell_type": "markdown",
      "metadata": {
        "id": "WtjOeaGICCCR"
      },
      "source": [
        "**Tree-Based Regression Models**"
      ]
    },
    {
      "cell_type": "code",
      "execution_count": 68,
      "metadata": {
        "id": "_24TaB1WBeHd"
      },
      "outputs": [],
      "source": [
        "from sklearn.tree import DecisionTreeRegressor\n",
        "from sklearn.ensemble import RandomForestRegressor, GradientBoostingRegressor\n",
        "from sklearn.metrics import mean_absolute_error, mean_squared_error, r2_score\n",
        "import numpy as np"
      ]
    },
    {
      "cell_type": "markdown",
      "metadata": {
        "id": "e96pa7T4h7sg"
      },
      "source": [
        "Define models"
      ]
    },
    {
      "cell_type": "code",
      "execution_count": 69,
      "metadata": {
        "id": "OUUUNHPLCFuj"
      },
      "outputs": [],
      "source": [
        "models = {\n",
        "    \"Decision Tree\": DecisionTreeRegressor(random_state=42),\n",
        "    \"Random Forest\": RandomForestRegressor(n_estimators=100, random_state=42),\n",
        "    \"Gradient Boosting\": GradientBoostingRegressor(n_estimators=100, learning_rate=0.1, random_state=42)\n",
        "}"
      ]
    },
    {
      "cell_type": "markdown",
      "metadata": {
        "id": "9652PwvJiBDS"
      },
      "source": [
        "Evaluate each model"
      ]
    },
    {
      "cell_type": "code",
      "execution_count": 70,
      "metadata": {
        "colab": {
          "base_uri": "https://localhost:8080/"
        },
        "id": "tmbNm0UwCHri",
        "outputId": "1fa83e85-2b4a-48ad-8fd6-c852bedd06bf"
      },
      "outputs": [
        {
          "output_type": "stream",
          "name": "stdout",
          "text": [
            "🔹 Decision Tree Performance:\n",
            "MAE  : 83.67\n",
            "RMSE : 92.46\n",
            "R²   : -2.3920\n",
            "----------------------------------------\n",
            "🔹 Random Forest Performance:\n",
            "MAE  : 79.57\n",
            "RMSE : 87.77\n",
            "R²   : -2.0565\n",
            "----------------------------------------\n",
            "🔹 Gradient Boosting Performance:\n",
            "MAE  : 80.29\n",
            "RMSE : 88.66\n",
            "R²   : -2.1187\n",
            "----------------------------------------\n"
          ]
        }
      ],
      "source": [
        "for name, model in models.items():\n",
        "    model.fit(X_train_scaled, y_train)\n",
        "    y_pred = model.predict(X_test_scaled)\n",
        "\n",
        "    # Calculate metrics\n",
        "    mae = mean_absolute_error(y_test, y_pred)\n",
        "    rmse = np.sqrt(mean_squared_error(y_test, y_pred))\n",
        "    r2 = r2_score(y_test, y_pred)\n",
        "\n",
        "    # Display results\n",
        "    print(f\"🔹 {name} Performance:\")\n",
        "    print(f\"MAE  : {mae:.2f}\")\n",
        "    print(f\"RMSE : {rmse:.2f}\")\n",
        "    print(f\"R²   : {r2:.4f}\")\n",
        "    print(\"-\" * 40)"
      ]
    },
    {
      "cell_type": "markdown",
      "metadata": {
        "id": "mqNbrtSSDNHe"
      },
      "source": [
        "# Fixing the Accuracy"
      ]
    },
    {
      "cell_type": "markdown",
      "metadata": {
        "id": "5wZ7JYjSDSAJ"
      },
      "source": [
        "**Visual Diagnostics**"
      ]
    },
    {
      "cell_type": "code",
      "execution_count": 71,
      "metadata": {
        "id": "oHG5PoOMCMQr"
      },
      "outputs": [],
      "source": [
        "from sklearn.ensemble import RandomForestRegressor\n",
        "\n",
        "rf_model = RandomForestRegressor(random_state=42)\n",
        "rf_model.fit(X_train, y_train)\n",
        "\n",
        "y_pred_rf = rf_model.predict(X_test)"
      ]
    },
    {
      "cell_type": "code",
      "execution_count": 72,
      "metadata": {
        "id": "JmiTlsARinRT"
      },
      "outputs": [],
      "source": [
        "import matplotlib.pyplot as plt\n",
        "import seaborn as sns"
      ]
    },
    {
      "cell_type": "markdown",
      "metadata": {
        "id": "BKaJG3-mipNq"
      },
      "source": [
        "Prediction vs Actual"
      ]
    },
    {
      "cell_type": "code",
      "execution_count": 73,
      "metadata": {
        "colab": {
          "base_uri": "https://localhost:8080/",
          "height": 564
        },
        "id": "iiskeKScirTP",
        "outputId": "cca6325e-ea73-4eea-be76-8744771debe2"
      },
      "outputs": [
        {
          "output_type": "display_data",
          "data": {
            "text/plain": [
              "<Figure size 600x600 with 1 Axes>"
            ],
            "image/png": "[encoded data removed]"
          },
          "metadata": {}
        }
      ],
      "source": [
        "plt.figure(figsize=(6, 6))\n",
        "sns.scatterplot(x=y_test, y=y_pred_rf)\n",
        "plt.plot([y_test.min(), y_test.max()], [y_test.min(), y_test.max()], 'r--')\n",
        "plt.xlabel(\"Actual PM2.5\")\n",
        "plt.ylabel(\"Predicted PM2.5\")\n",
        "plt.title(\"Actual vs Predicted PM2.5\")\n",
        "plt.grid(True)\n",
        "plt.show()"
      ]
    },
    {
      "cell_type": "markdown",
      "metadata": {
        "id": "SL-S-uHGisFj"
      },
      "source": [
        "Residual Plot"
      ]
    },
    {
      "cell_type": "code",
      "execution_count": 74,
      "metadata": {
        "colab": {
          "base_uri": "https://localhost:8080/",
          "height": 410
        },
        "id": "iYW40GSuDYGs",
        "outputId": "eeac58c4-4d44-4cf4-8480-f6630d6fb9ef"
      },
      "outputs": [
        {
          "output_type": "display_data",
          "data": {
            "text/plain": [
              "<Figure size 1000x400 with 1 Axes>"
            ],
            "image/png": "[encoded data removed]"
          },
          "metadata": {}
        }
      ],
      "source": [
        "residuals = y_test - y_pred_rf\n",
        "plt.figure(figsize=(10, 4))\n",
        "sns.histplot(residuals, bins=50, kde=True)\n",
        "plt.title(\"Residual Distribution\")\n",
        "plt.xlabel(\"Residual (Actual - Predicted)\")\n",
        "plt.show()"
      ]
    },
    {
      "cell_type": "markdown",
      "metadata": {
        "id": "mP0ZNIQKlBfg"
      },
      "source": [
        "**Time-based splitting**"
      ]
    },
    {
      "cell_type": "code",
      "execution_count": 75,
      "metadata": {
        "id": "mDVN1FdKjOnx"
      },
      "outputs": [],
      "source": [
        "import pandas as pd"
      ]
    },
    {
      "cell_type": "markdown",
      "metadata": {
        "id": "tPok7fNcjRuF"
      },
      "source": [
        "Ensure datetime column is parsed"
      ]
    },
    {
      "cell_type": "code",
      "execution_count": 76,
      "metadata": {
        "id": "3q2M-vR1jcWN"
      },
      "outputs": [],
      "source": [
        "df['datetimeUtc'] = pd.to_datetime(df['datetimeUtc'])"
      ]
    },
    {
      "cell_type": "markdown",
      "metadata": {
        "id": "4UvSrjKtjfPE"
      },
      "source": [
        "Sort by datetime"
      ]
    },
    {
      "cell_type": "code",
      "execution_count": 77,
      "metadata": {
        "id": "QHY5yYiXjjY-"
      },
      "outputs": [],
      "source": [
        "df = df.sort_values('datetimeUtc').reset_index(drop=True)"
      ]
    },
    {
      "cell_type": "markdown",
      "metadata": {
        "id": "dHM3SWs0jloX"
      },
      "source": [
        "Rename 'value' to 'pm25' if needed (optional)"
      ]
    },
    {
      "cell_type": "code",
      "execution_count": 78,
      "metadata": {
        "id": "ML8ercALjnkl"
      },
      "outputs": [],
      "source": [
        "df = df.rename(columns={'value': 'pm25'})"
      ]
    },
    {
      "cell_type": "markdown",
      "metadata": {
        "id": "C7PekrK1jpSi"
      },
      "source": [
        "Drop rows with missing target"
      ]
    },
    {
      "cell_type": "code",
      "execution_count": 79,
      "metadata": {
        "id": "KsrhGAjHjq1g"
      },
      "outputs": [],
      "source": [
        "df = df.dropna(subset=['pm25'])"
      ]
    },
    {
      "cell_type": "markdown",
      "metadata": {
        "id": "4otWTbeTjuIm"
      },
      "source": [
        "Define features and target"
      ]
    },
    {
      "cell_type": "code",
      "execution_count": 80,
      "metadata": {
        "id": "Xvo-7516jzQ8"
      },
      "outputs": [],
      "source": [
        "features = df.drop(columns=['pm25', 'datetimeUtc'])\n",
        "target = df['pm25']"
      ]
    },
    {
      "cell_type": "markdown",
      "metadata": {
        "id": "MC3xJYQnj1t_"
      },
      "source": [
        "Time-based split — last 20% as test set"
      ]
    },
    {
      "cell_type": "code",
      "execution_count": 81,
      "metadata": {
        "id": "UA4mOlRCj3t1"
      },
      "outputs": [],
      "source": [
        "split_index = int(len(df) * 0.8)\n",
        "X_train = features.iloc[:split_index]\n",
        "X_test = features.iloc[split_index:]\n",
        "y_train = target.iloc[:split_index]\n",
        "y_test = target.iloc[split_index:]"
      ]
    },
    {
      "cell_type": "markdown",
      "metadata": {
        "id": "KARpTAMxj5uw"
      },
      "source": [
        "Check time ranges"
      ]
    },
    {
      "cell_type": "code",
      "execution_count": 82,
      "metadata": {
        "colab": {
          "base_uri": "https://localhost:8080/"
        },
        "id": "ZEFTaxKGD6AC",
        "outputId": "6b3b4650-0aef-4c16-e475-ce52dc433b72"
      },
      "outputs": [
        {
          "output_type": "stream",
          "name": "stdout",
          "text": [
            "Train time: 2016-02-05 14:15:00+00:00 to 2025-05-18 11:15:00+00:00\n",
            "Test time: 2025-05-18 11:15:00+00:00 to 2025-06-09 00:00:00+00:00\n"
          ]
        }
      ],
      "source": [
        "print(\"Train time:\", df['datetimeUtc'].iloc[:split_index].min(), \"to\", df['datetimeUtc'].iloc[:split_index].max())\n",
        "print(\"Test time:\", df['datetimeUtc'].iloc[split_index:].min(), \"to\", df['datetimeUtc'].iloc[split_index:].max())"
      ]
    },
    {
      "cell_type": "code",
      "execution_count": 83,
      "metadata": {
        "colab": {
          "base_uri": "https://localhost:8080/"
        },
        "id": "DIox0P4BEoJp",
        "outputId": "d7f39621-2e61-4df7-c3e0-42ea01bb7511"
      },
      "outputs": [
        {
          "output_type": "stream",
          "name": "stdout",
          "text": [
            "Index(['datetimeUtc', 'parameter', 'pm25', 'Month', 'Season'], dtype='object')\n"
          ]
        }
      ],
      "source": [
        "print(df.columns)"
      ]
    },
    {
      "cell_type": "code",
      "execution_count": 84,
      "metadata": {
        "id": "nOLJY2BzFClV"
      },
      "outputs": [],
      "source": [
        "df['datetimeUtc'] = pd.to_datetime(df['datetimeUtc'])\n",
        "df['hour'] = df['datetimeUtc'].dt.hour\n",
        "df['dayofweek'] = df['datetimeUtc'].dt.dayofweek\n",
        "df['month'] = df['datetimeUtc'].dt.month\n",
        "df['is_weekend'] = df['dayofweek'].isin([5,6]).astype(int)"
      ]
    },
    {
      "cell_type": "markdown",
      "metadata": {
        "id": "oNaXp7wxkIr6"
      },
      "source": [
        "lag/rolling features"
      ]
    },
    {
      "cell_type": "code",
      "execution_count": 85,
      "metadata": {
        "id": "64Q2UMpOkC4g"
      },
      "outputs": [],
      "source": [
        "for lag in [1, 3, 6, 12, 24]:\n",
        "    df[f'pm25_lag_{lag}'] = df['pm25'].shift(lag)\n",
        "\n",
        "df['pm25_roll_mean_6'] = df['pm25'].rolling(6).mean()\n",
        "df['pm25_roll_std_6'] = df['pm25'].rolling(6).std()"
      ]
    },
    {
      "cell_type": "markdown",
      "metadata": {
        "id": "RnsTGIudk13b"
      },
      "source": [
        "**Check Your Data**"
      ]
    },
    {
      "cell_type": "code",
      "execution_count": 86,
      "metadata": {
        "colab": {
          "base_uri": "https://localhost:8080/"
        },
        "id": "rWn-Esg2GGBt",
        "outputId": "9b528bf2-75fc-454e-b23f-03887edc622d"
      },
      "outputs": [
        {
          "output_type": "stream",
          "name": "stdout",
          "text": [
            "parameter    object\n",
            "Month         int32\n",
            "Season       object\n",
            "dtype: object\n"
          ]
        }
      ],
      "source": [
        "print(X_train.dtypes)"
      ]
    },
    {
      "cell_type": "markdown",
      "metadata": {
        "id": "GoYe4Wq9GLi4"
      },
      "source": [
        "**Drop or Encode Categorical Columns**"
      ]
    },
    {
      "cell_type": "code",
      "execution_count": 87,
      "metadata": {
        "id": "5sQShkyKGNNJ"
      },
      "outputs": [],
      "source": [
        "X_train = X_train.select_dtypes(include=[np.number])\n",
        "X_test = X_test.select_dtypes(include=[np.number])\n",
        "\n",
        "X_train = pd.get_dummies(X_train)\n",
        "X_test = pd.get_dummies(X_test)\n",
        "\n",
        "X_train, X_test = X_train.align(X_test, join='left', axis=1, fill_value=0)"
      ]
    },
    {
      "cell_type": "markdown",
      "metadata": {
        "id": "CIZZQhb0kxz5"
      },
      "source": [
        "**Log-Transformed Training**"
      ]
    },
    {
      "cell_type": "code",
      "execution_count": 88,
      "metadata": {
        "id": "0Tfi6zq4FyEQ"
      },
      "outputs": [],
      "source": [
        "from sklearn.ensemble import GradientBoostingRegressor\n",
        "import numpy as np\n",
        "\n",
        "y_train_log = np.log1p(y_train)\n",
        "y_test_log = np.log1p(y_test)\n",
        "\n",
        "model = GradientBoostingRegressor()\n",
        "model.fit(X_train, y_train_log)\n",
        "\n",
        "y_pred_log = model.predict(X_test)\n",
        "y_pred = np.expm1(y_pred_log)"
      ]
    },
    {
      "cell_type": "markdown",
      "metadata": {
        "id": "6pOAyn-HGoj1"
      },
      "source": [
        "**Feature Engineering**"
      ]
    },
    {
      "cell_type": "code",
      "execution_count": 89,
      "metadata": {
        "id": "27oGuwSPGY5I"
      },
      "outputs": [],
      "source": [
        "df['datetimeUtc'] = pd.to_datetime(df['datetimeUtc'])"
      ]
    },
    {
      "cell_type": "markdown",
      "metadata": {
        "id": "GnfNgn29lzLq"
      },
      "source": [
        "Time-based features"
      ]
    },
    {
      "cell_type": "code",
      "execution_count": 90,
      "metadata": {
        "id": "bFl6lq6Sl1kd"
      },
      "outputs": [],
      "source": [
        "df['hour'] = df['datetimeUtc'].dt.hour\n",
        "df['dayofweek'] = df['datetimeUtc'].dt.dayofweek\n",
        "df['month'] = df['datetimeUtc'].dt.month\n",
        "df['is_weekend'] = df['dayofweek'].isin([5, 6]).astype(int)"
      ]
    },
    {
      "cell_type": "markdown",
      "metadata": {
        "id": "dsXE7rEAl39J"
      },
      "source": [
        "Lag features"
      ]
    },
    {
      "cell_type": "code",
      "execution_count": 91,
      "metadata": {
        "id": "Ph1ov_WQlxA7"
      },
      "outputs": [],
      "source": [
        "for lag in [1, 2, 3, 6, 12, 24]:\n",
        "    df[f'pm25_lag_{lag}'] = df['pm25'].shift(lag)"
      ]
    },
    {
      "cell_type": "markdown",
      "metadata": {
        "id": "8JEOl28FmAyN"
      },
      "source": [
        "Rolling mean features"
      ]
    },
    {
      "cell_type": "code",
      "execution_count": 92,
      "metadata": {
        "id": "R54p1hEtl9yj"
      },
      "outputs": [],
      "source": [
        "df['pm25_roll_mean_6'] = df['pm25'].rolling(window=6).mean()\n",
        "df['pm25_roll_std_6'] = df['pm25'].rolling(window=6).std()"
      ]
    },
    {
      "cell_type": "markdown",
      "metadata": {
        "id": "GtHJ_j2HGzFu"
      },
      "source": [
        "**Apply Log Transformation**"
      ]
    },
    {
      "cell_type": "code",
      "execution_count": 93,
      "metadata": {
        "id": "HUkNYikaGjCc"
      },
      "outputs": [],
      "source": [
        "y_train_log = np.log1p(y_train)\n",
        "y_test_log = np.log1p(y_test)\n",
        "\n",
        "model.fit(X_train, y_train_log)\n",
        "y_pred_log = model.predict(X_test)\n",
        "\n",
        "y_pred = np.expm1(y_pred_log)"
      ]
    },
    {
      "cell_type": "markdown",
      "metadata": {
        "id": "5ydmcvm5G6fo"
      },
      "source": [
        "**Use TimeSeries Cross-Validation**"
      ]
    },
    {
      "cell_type": "code",
      "execution_count": 94,
      "metadata": {
        "id": "SJcJx8cMHLAK"
      },
      "outputs": [],
      "source": [
        "import pandas as pd\n",
        "import numpy as np\n",
        "from sklearn.model_selection import TimeSeriesSplit\n",
        "from sklearn.ensemble import GradientBoostingRegressor\n",
        "from sklearn.impute import SimpleImputer\n",
        "from sklearn.metrics import mean_absolute_error, mean_squared_error, r2_score"
      ]
    },
    {
      "cell_type": "markdown",
      "metadata": {
        "id": "LCTq1dDBmNAO"
      },
      "source": [
        "Assume df is your main DataFrame"
      ]
    },
    {
      "cell_type": "code",
      "execution_count": 95,
      "metadata": {
        "id": "LBmHdMqPHbnG"
      },
      "outputs": [],
      "source": [
        "df['datetimeUtc'] = pd.to_datetime(df['datetimeUtc'])\n",
        "df = df.sort_values('datetimeUtc').reset_index(drop=True)"
      ]
    },
    {
      "cell_type": "markdown",
      "metadata": {
        "id": "OEZwvIFumRig"
      },
      "source": [
        "Rename target column"
      ]
    },
    {
      "cell_type": "code",
      "execution_count": 96,
      "metadata": {
        "id": "onbMIhTmIzzi"
      },
      "outputs": [],
      "source": [
        "df = df.rename(columns={'value': 'pm25'})"
      ]
    },
    {
      "cell_type": "markdown",
      "metadata": {
        "id": "K7YbsJ8TmWc5"
      },
      "source": [
        "Drop rows where target is missing"
      ]
    },
    {
      "cell_type": "code",
      "execution_count": 97,
      "metadata": {
        "id": "kOuziAckI3CI"
      },
      "outputs": [],
      "source": [
        "df = df.dropna(subset=['pm25'])"
      ]
    },
    {
      "cell_type": "markdown",
      "metadata": {
        "id": "gyFBpWvVmaOt"
      },
      "source": [
        "Separate features and target"
      ]
    },
    {
      "cell_type": "code",
      "execution_count": 98,
      "metadata": {
        "id": "uDF6ab5oI6zh"
      },
      "outputs": [],
      "source": [
        "X = df.drop(columns=['pm25', 'datetimeUtc'])\n",
        "y = df['pm25']"
      ]
    },
    {
      "cell_type": "markdown",
      "metadata": {
        "id": "nUCbpst0mfWb"
      },
      "source": [
        "Convert categorical to numeric"
      ]
    },
    {
      "cell_type": "code",
      "execution_count": 99,
      "metadata": {
        "id": "Vhqu6AiLI-_U"
      },
      "outputs": [],
      "source": [
        "X = pd.get_dummies(X)"
      ]
    },
    {
      "cell_type": "markdown",
      "metadata": {
        "id": "jqj8RDg_miTK"
      },
      "source": [
        "Impute missing values in X"
      ]
    },
    {
      "cell_type": "code",
      "execution_count": 100,
      "metadata": {
        "id": "yOhvLh-lJESL"
      },
      "outputs": [],
      "source": [
        "imputer = SimpleImputer(strategy='mean')\n",
        "X_imputed = pd.DataFrame(imputer.fit_transform(X), columns=X.columns)"
      ]
    },
    {
      "cell_type": "markdown",
      "metadata": {
        "id": "AmT7rPfamlaP"
      },
      "source": [
        "Initialize model and cross-validator"
      ]
    },
    {
      "cell_type": "code",
      "execution_count": 101,
      "metadata": {
        "id": "0JSk_B5-JHkP"
      },
      "outputs": [],
      "source": [
        "model = GradientBoostingRegressor()\n",
        "tscv = TimeSeriesSplit(n_splits=5)"
      ]
    },
    {
      "cell_type": "markdown",
      "metadata": {
        "id": "SvkwxRO4mqCa"
      },
      "source": [
        "Score storage"
      ]
    },
    {
      "cell_type": "code",
      "execution_count": 102,
      "metadata": {
        "id": "xOjBXrGIJK18"
      },
      "outputs": [],
      "source": [
        "mae_list = []\n",
        "rmse_list = []\n",
        "r2_list = []"
      ]
    },
    {
      "cell_type": "markdown",
      "metadata": {
        "id": "OuwMTa96mt0d"
      },
      "source": [
        "Time series cross-validation"
      ]
    },
    {
      "cell_type": "code",
      "execution_count": 104,
      "metadata": {
        "colab": {
          "base_uri": "https://localhost:8080/"
        },
        "id": "9vS1ZeLFJM5j",
        "outputId": "86a768d7-fff1-4d29-bf4a-8ebc44399a77"
      },
      "outputs": [
        {
          "output_type": "stream",
          "name": "stdout",
          "text": [
            "Fold 1 — MAE: 35.44, RMSE: 67.03, R²: 0.47\n",
            "Fold 2 — MAE: 30.13, RMSE: 56.60, R²: 0.59\n",
            "Fold 3 — MAE: 29.28, RMSE: 55.74, R²: 0.64\n",
            "Fold 4 — MAE: 22.18, RMSE: 58.13, R²: 0.60\n",
            "Fold 5 — MAE: 19.46, RMSE: 35.24, R²: 0.71\n"
          ]
        }
      ],
      "source": [
        "for i, (train_index, test_index) in enumerate(tscv.split(X_imputed)):\n",
        "    X_train, X_test = X_imputed.iloc[train_index], X_imputed.iloc[test_index]\n",
        "    y_train, y_test = y.iloc[train_index], y.iloc[test_index]\n",
        "\n",
        "    model.fit(X_train, y_train)\n",
        "    y_pred = model.predict(X_test)\n",
        "\n",
        "    # Evaluation\n",
        "    mae = mean_absolute_error(y_test, y_pred)\n",
        "    rmse = np.sqrt(mean_squared_error(y_test, y_pred))\n",
        "    r2 = r2_score(y_test, y_pred)\n",
        "\n",
        "    print(f\"Fold {i+1} — MAE: {mae:.2f}, RMSE: {rmse:.2f}, R²: {r2:.2f}\")\n",
        "    mae_list.append(mae)\n",
        "    rmse_list.append(rmse)\n",
        "    r2_list.append(r2)"
      ]
    },
    {
      "cell_type": "markdown",
      "metadata": {
        "id": "VKcxFKanm0xq"
      },
      "source": [
        "Average metrics"
      ]
    },
    {
      "cell_type": "code",
      "execution_count": 105,
      "metadata": {
        "colab": {
          "base_uri": "https://localhost:8080/"
        },
        "id": "n3BJ1xM9JP95",
        "outputId": "2258cfb3-2099-4c77-9271-95749a60e5ec"
      },
      "outputs": [
        {
          "output_type": "stream",
          "name": "stdout",
          "text": [
            "\n",
            "✅ Average MAE: 27.29670491337948\n",
            "✅ Average RMSE: 54.545919155100265\n",
            "✅ Average R²: 0.6023284801481412\n"
          ]
        }
      ],
      "source": [
        "print(\"\\n✅ Average MAE:\", np.mean(mae_list))\n",
        "print(\"✅ Average RMSE:\", np.mean(rmse_list))\n",
        "print(\"✅ Average R²:\", np.mean(r2_list))"
      ]
    },
    {
      "cell_type": "markdown",
      "metadata": {
        "id": "BDitSCoRm5UH"
      },
      "source": [
        "# Checking the Model"
      ]
    },
    {
      "cell_type": "markdown",
      "metadata": {
        "id": "q6EgWWx2neTq"
      },
      "source": [
        "**Visual Diagnostics**"
      ]
    },
    {
      "cell_type": "code",
      "execution_count": 106,
      "metadata": {
        "id": "gBt38FG4nE-U"
      },
      "outputs": [],
      "source": [
        "from sklearn.ensemble import RandomForestRegressor"
      ]
    },
    {
      "cell_type": "code",
      "execution_count": 107,
      "metadata": {
        "id": "GAOeD1eCnHtS"
      },
      "outputs": [],
      "source": [
        "rf_model = RandomForestRegressor(random_state=42)\n",
        "rf_model.fit(X_train, y_train)\n",
        "\n",
        "y_pred_rf = rf_model.predict(X_test)"
      ]
    },
    {
      "cell_type": "code",
      "execution_count": 108,
      "metadata": {
        "id": "FDnJ9-JcnkX_"
      },
      "outputs": [],
      "source": [
        "import matplotlib.pyplot as plt\n",
        "import seaborn as sns"
      ]
    },
    {
      "cell_type": "markdown",
      "metadata": {
        "id": "ttpSRDK6nmNA"
      },
      "source": [
        "Prediction vs Actual"
      ]
    },
    {
      "cell_type": "code",
      "execution_count": 109,
      "metadata": {
        "colab": {
          "base_uri": "https://localhost:8080/",
          "height": 564
        },
        "id": "tRA6nn1JnoQw",
        "outputId": "76bcd8d7-b7a9-480e-c385-5066c5ffb117"
      },
      "outputs": [
        {
          "output_type": "display_data",
          "data": {
            "text/plain": [
              "<Figure size 600x600 with 1 Axes>"
            ],
            "image/png": "[encoded data removed]"
          },
          "metadata": {}
        }
      ],
      "source": [
        "plt.figure(figsize=(6, 6))\n",
        "sns.scatterplot(x=y_test, y=y_pred_rf)\n",
        "plt.plot([y_test.min(), y_test.max()], [y_test.min(), y_test.max()], 'r--')\n",
        "plt.xlabel(\"Actual PM2.5\")\n",
        "plt.ylabel(\"Predicted PM2.5\")\n",
        "plt.title(\"Actual vs Predicted PM2.5\")\n",
        "plt.grid(True)\n",
        "plt.show()"
      ]
    },
    {
      "cell_type": "markdown",
      "metadata": {
        "id": "CsnggzU7nqNF"
      },
      "source": [
        "Residual Plot"
      ]
    },
    {
      "cell_type": "code",
      "execution_count": 110,
      "metadata": {
        "colab": {
          "base_uri": "https://localhost:8080/",
          "height": 410
        },
        "id": "bUuUKQ4KJRTu",
        "outputId": "768a1ea7-2122-4105-a0ee-f77fffcfec48"
      },
      "outputs": [
        {
          "output_type": "display_data",
          "data": {
            "text/plain": [
              "<Figure size 1000x400 with 1 Axes>"
            ],
            "image/png": "[encoded data removed]"
          },
          "metadata": {}
        }
      ],
      "source": [
        "residuals = y_test - y_pred_rf\n",
        "plt.figure(figsize=(10, 4))\n",
        "sns.histplot(residuals, bins=50, kde=True)\n",
        "plt.title(\"Residual Distribution\")\n",
        "plt.xlabel(\"Residual (Actual - Predicted)\")\n",
        "plt.show()"
      ]
    },
    {
      "cell_type": "markdown",
      "metadata": {
        "id": "2kMlqUzCn5kf"
      },
      "source": [
        "**Model**"
      ]
    },
    {
      "cell_type": "code",
      "execution_count": 111,
      "metadata": {
        "id": "7ss8S2OloCQs"
      },
      "outputs": [],
      "source": [
        "from sklearn.tree import DecisionTreeRegressor\n",
        "from sklearn.ensemble import RandomForestRegressor, GradientBoostingRegressor\n",
        "from sklearn.model_selection import TimeSeriesSplit\n",
        "from sklearn.preprocessing import StandardScaler\n",
        "from sklearn.metrics import mean_absolute_error, mean_squared_error, r2_score\n",
        "import numpy as np"
      ]
    },
    {
      "cell_type": "markdown",
      "metadata": {
        "id": "Guj2ppSpoE2A"
      },
      "source": [
        "Define models"
      ]
    },
    {
      "cell_type": "code",
      "execution_count": 112,
      "metadata": {
        "id": "lwtYrQ_joG4N"
      },
      "outputs": [],
      "source": [
        "models = {\n",
        "    \"Decision Tree\": DecisionTreeRegressor(random_state=42),\n",
        "    \"Random Forest\": RandomForestRegressor(n_estimators=100, random_state=42),\n",
        "    \"Gradient Boosting\": GradientBoostingRegressor(n_estimators=100, learning_rate=0.1, random_state=42)\n",
        "}"
      ]
    },
    {
      "cell_type": "markdown",
      "metadata": {
        "id": "hBlO4LxroJEr"
      },
      "source": [
        "Cross-validation setup"
      ]
    },
    {
      "cell_type": "code",
      "execution_count": 113,
      "metadata": {
        "id": "xAkWWaZaoKpl"
      },
      "outputs": [],
      "source": [
        "tscv = TimeSeriesSplit(n_splits=5)"
      ]
    },
    {
      "cell_type": "markdown",
      "metadata": {
        "id": "fqPb5LUAoP7N"
      },
      "source": [
        "Evaluate each model"
      ]
    },
    {
      "cell_type": "code",
      "execution_count": 114,
      "metadata": {
        "colab": {
          "base_uri": "https://localhost:8080/"
        },
        "id": "getU6lCRM-Vk",
        "outputId": "faae2ae0-1ecc-40f9-c8d3-d075a1935610"
      },
      "outputs": [
        {
          "output_type": "stream",
          "name": "stdout",
          "text": [
            "\n",
            "🔹 Evaluating Decision Tree model...\n",
            "Fold 1: MAE=23.98, RMSE=62.80, R²=0.5379\n",
            "Fold 2: MAE=25.44, RMSE=57.73, R²=0.5692\n",
            "Fold 3: MAE=24.48, RMSE=55.19, R²=0.6495\n",
            "Fold 4: MAE=18.26, RMSE=44.71, R²=0.7630\n",
            "Fold 5: MAE=25.54, RMSE=69.77, R²=-0.1360\n",
            "\n",
            "✅ Average Metrics for Decision Tree:\n",
            "MAE  : 23.54\n",
            "RMSE : 58.04\n",
            "R²   : 0.4767\n",
            "----------------------------------------\n",
            "\n",
            "🔹 Evaluating Random Forest model...\n",
            "Fold 1: MAE=19.20, RMSE=55.47, R²=0.6395\n",
            "Fold 2: MAE=20.49, RMSE=47.24, R²=0.7115\n",
            "Fold 3: MAE=19.73, RMSE=44.13, R²=0.7760\n",
            "Fold 4: MAE=14.31, RMSE=46.16, R²=0.7474\n",
            "Fold 5: MAE=19.15, RMSE=48.95, R²=0.4408\n",
            "\n",
            "✅ Average Metrics for Random Forest:\n",
            "MAE  : 18.58\n",
            "RMSE : 48.39\n",
            "R²   : 0.6630\n",
            "----------------------------------------\n",
            "\n",
            "🔹 Evaluating Gradient Boosting model...\n",
            "Fold 1: MAE=35.44, RMSE=67.03, R²=0.4736\n",
            "Fold 2: MAE=30.13, RMSE=56.60, R²=0.5859\n",
            "Fold 3: MAE=29.28, RMSE=55.74, R²=0.6426\n",
            "Fold 4: MAE=22.18, RMSE=58.13, R²=0.5994\n",
            "Fold 5: MAE=19.46, RMSE=35.24, R²=0.7102\n",
            "\n",
            "✅ Average Metrics for Gradient Boosting:\n",
            "MAE  : 27.30\n",
            "RMSE : 54.55\n",
            "R²   : 0.6023\n",
            "----------------------------------------\n"
          ]
        }
      ],
      "source": [
        "for name, model in models.items():\n",
        "    print(f\"\\n🔹 Evaluating {name} model...\")\n",
        "    fold_mae, fold_rmse, fold_r2 = [], [], []\n",
        "\n",
        "    for i, (train_index, test_index) in enumerate(tscv.split(X_imputed)):\n",
        "        X_train, X_test = X_imputed.iloc[train_index], X_imputed.iloc[test_index]\n",
        "        y_train, y_test = y.iloc[train_index], y.iloc[test_index]\n",
        "\n",
        "        # Scale features inside the loop\n",
        "        scaler = StandardScaler()\n",
        "        X_train_scaled = scaler.fit_transform(X_train)\n",
        "        X_test_scaled = scaler.transform(X_test)\n",
        "\n",
        "        # Train and predict\n",
        "        model.fit(X_train_scaled, y_train)\n",
        "        y_pred = model.predict(X_test_scaled)\n",
        "\n",
        "        # Metrics\n",
        "        mae = mean_absolute_error(y_test, y_pred)\n",
        "        rmse = np.sqrt(mean_squared_error(y_test, y_pred))\n",
        "        r2 = r2_score(y_test, y_pred)\n",
        "\n",
        "        fold_mae.append(mae)\n",
        "        fold_rmse.append(rmse)\n",
        "        fold_r2.append(r2)\n",
        "\n",
        "        print(f\"Fold {i+1}: MAE={mae:.2f}, RMSE={rmse:.2f}, R²={r2:.4f}\")\n",
        "\n",
        "    # Average results\n",
        "    print(f\"\\n✅ Average Metrics for {name}:\")\n",
        "    print(f\"MAE  : {np.mean(fold_mae):.2f}\")\n",
        "    print(f\"RMSE : {np.mean(fold_rmse):.2f}\")\n",
        "    print(f\"R²   : {np.mean(fold_r2):.4f}\")\n",
        "    print(\"-\" * 40)"
      ]
    },
    {
      "cell_type": "markdown",
      "metadata": {
        "id": "oKqfC567oo-s"
      },
      "source": [
        "# **Phase 5: Hyperparameter Tuning**"
      ]
    },
    {
      "cell_type": "markdown",
      "metadata": {
        "id": "MDQLj4TqovgF"
      },
      "source": [
        "**Tune Key Models**"
      ]
    },
    {
      "cell_type": "code",
      "execution_count": 115,
      "metadata": {
        "id": "sHWs2IWqo0aJ"
      },
      "outputs": [],
      "source": [
        "from sklearn.tree import DecisionTreeRegressor\n",
        "from sklearn.ensemble import RandomForestRegressor, GradientBoostingRegressor\n",
        "from sklearn.model_selection import TimeSeriesSplit, GridSearchCV\n",
        "from sklearn.preprocessing import StandardScaler\n",
        "from sklearn.metrics import mean_absolute_error, mean_squared_error, r2_score\n",
        "import numpy as np\n",
        "import warnings\n",
        "\n",
        "warnings.filterwarnings(\"ignore\", category=UserWarning, module='joblib')"
      ]
    },
    {
      "cell_type": "markdown",
      "metadata": {
        "id": "fmafYrcFo2Lb"
      },
      "source": [
        "Define model configurations"
      ]
    },
    {
      "cell_type": "code",
      "execution_count": 116,
      "metadata": {
        "id": "DAUDZ9vNo-i9"
      },
      "outputs": [],
      "source": [
        "model_configs = {\n",
        "    \"Decision Tree\": {\n",
        "        \"model\": DecisionTreeRegressor(random_state=42),\n",
        "        \"params\": {\n",
        "            \"max_depth\": [3, 5, 10, None],\n",
        "            \"min_samples_split\": [2, 5, 10]\n",
        "        }\n",
        "    },\n",
        "    \"Random Forest\": {\n",
        "        \"model\": RandomForestRegressor(random_state=42),\n",
        "        \"params\": {\n",
        "            \"n_estimators\": [50, 100],\n",
        "            \"max_depth\": [5, 10, None],\n",
        "            \"min_samples_split\": [2, 5]\n",
        "        }\n",
        "    },\n",
        "    \"Gradient Boosting\": {\n",
        "        \"model\": GradientBoostingRegressor(random_state=42),\n",
        "        \"params\": {\n",
        "            \"n_estimators\": [50, 100],\n",
        "            \"learning_rate\": [0.05, 0.1],\n",
        "            \"max_depth\": [3, 5]\n",
        "        }\n",
        "    }\n",
        "}"
      ]
    },
    {
      "cell_type": "markdown",
      "metadata": {
        "id": "9tMF6a7PpAXy"
      },
      "source": [
        "TimeSeriesSplit"
      ]
    },
    {
      "cell_type": "code",
      "execution_count": 117,
      "metadata": {
        "id": "yG9m609KpCiZ"
      },
      "outputs": [],
      "source": [
        "tscv = TimeSeriesSplit(n_splits=5)"
      ]
    },
    {
      "cell_type": "markdown",
      "metadata": {
        "id": "yWKCUCcvpJpk"
      },
      "source": [
        "Evaluate each model with GridSearch"
      ]
    },
    {
      "cell_type": "code",
      "execution_count": 118,
      "metadata": {
        "colab": {
          "base_uri": "https://localhost:8080/"
        },
        "id": "upOeudWqzKHx",
        "outputId": "af624a94-1fb4-416e-ea70-509b0c83042e"
      },
      "outputs": [
        {
          "output_type": "stream",
          "name": "stdout",
          "text": [
            "\n",
            "🔹 Hyperparameter Tuning for Decision Tree...\n",
            "Fold 1: MAE=20.56, RMSE=58.36, R²=0.6009\n",
            "  ➤ Best Params: {'max_depth': 10, 'min_samples_split': 10}\n",
            "Fold 2: MAE=21.50, RMSE=48.24, R²=0.6991\n",
            "  ➤ Best Params: {'max_depth': 10, 'min_samples_split': 5}\n",
            "Fold 3: MAE=23.00, RMSE=48.59, R²=0.7283\n",
            "  ➤ Best Params: {'max_depth': 10, 'min_samples_split': 5}\n",
            "Fold 4: MAE=18.68, RMSE=45.28, R²=0.7569\n",
            "  ➤ Best Params: {'max_depth': 10, 'min_samples_split': 10}\n",
            "Fold 5: MAE=24.61, RMSE=64.66, R²=0.0242\n",
            "  ➤ Best Params: {'max_depth': 10, 'min_samples_split': 2}\n",
            "\n",
            "✅ Average Metrics for Decision Tree:\n",
            "MAE  : 21.67\n",
            "RMSE : 53.03\n",
            "R²   : 0.5619\n",
            "--------------------------------------------------\n",
            "\n",
            "🔹 Hyperparameter Tuning for Random Forest...\n",
            "Fold 1: MAE=20.68, RMSE=57.71, R²=0.6098\n",
            "  ➤ Best Params: {'max_depth': 10, 'min_samples_split': 5, 'n_estimators': 50}\n",
            "Fold 2: MAE=20.52, RMSE=47.32, R²=0.7106\n",
            "  ➤ Best Params: {'max_depth': None, 'min_samples_split': 2, 'n_estimators': 50}\n",
            "Fold 3: MAE=19.73, RMSE=44.13, R²=0.7760\n",
            "  ➤ Best Params: {'max_depth': None, 'min_samples_split': 2, 'n_estimators': 100}\n",
            "Fold 4: MAE=14.31, RMSE=46.07, R²=0.7483\n",
            "  ➤ Best Params: {'max_depth': None, 'min_samples_split': 5, 'n_estimators': 100}\n",
            "Fold 5: MAE=19.46, RMSE=49.79, R²=0.4214\n",
            "  ➤ Best Params: {'max_depth': None, 'min_samples_split': 5, 'n_estimators': 100}\n",
            "\n",
            "✅ Average Metrics for Random Forest:\n",
            "MAE  : 18.94\n",
            "RMSE : 49.00\n",
            "R²   : 0.6532\n",
            "--------------------------------------------------\n",
            "\n",
            "🔹 Hyperparameter Tuning for Gradient Boosting...\n",
            "Fold 1: MAE=25.45, RMSE=59.93, R²=0.5792\n",
            "  ➤ Best Params: {'learning_rate': 0.1, 'max_depth': 5, 'n_estimators': 100}\n",
            "Fold 2: MAE=24.85, RMSE=49.82, R²=0.6791\n",
            "  ➤ Best Params: {'learning_rate': 0.1, 'max_depth': 5, 'n_estimators': 100}\n",
            "Fold 3: MAE=24.61, RMSE=48.79, R²=0.7261\n",
            "  ➤ Best Params: {'learning_rate': 0.1, 'max_depth': 5, 'n_estimators': 100}\n",
            "Fold 4: MAE=18.44, RMSE=55.66, R²=0.6326\n",
            "  ➤ Best Params: {'learning_rate': 0.1, 'max_depth': 5, 'n_estimators': 100}\n",
            "Fold 5: MAE=24.78, RMSE=49.36, R²=0.4315\n",
            "  ➤ Best Params: {'learning_rate': 0.1, 'max_depth': 5, 'n_estimators': 100}\n",
            "\n",
            "✅ Average Metrics for Gradient Boosting:\n",
            "MAE  : 23.63\n",
            "RMSE : 52.71\n",
            "R²   : 0.6097\n",
            "--------------------------------------------------\n"
          ]
        }
      ],
      "source": [
        "for name, config in model_configs.items():\n",
        "    print(f\"\\n🔹 Hyperparameter Tuning for {name}...\")\n",
        "    fold_mae, fold_rmse, fold_r2 = [], [], []\n",
        "\n",
        "    for fold, (train_idx, test_idx) in enumerate(tscv.split(X_imputed)):\n",
        "        X_train, X_test = X_imputed.iloc[train_idx], X_imputed.iloc[test_idx]\n",
        "        y_train, y_test = y.iloc[train_idx], y.iloc[test_idx]\n",
        "\n",
        "        # Scale\n",
        "        scaler = StandardScaler()\n",
        "        X_train_scaled = scaler.fit_transform(X_train)\n",
        "        X_test_scaled = scaler.transform(X_test)\n",
        "\n",
        "        # GridSearch\n",
        "        grid_search = GridSearchCV(\n",
        "            estimator=config[\"model\"],\n",
        "            param_grid=config[\"params\"],\n",
        "            scoring='neg_mean_absolute_error',\n",
        "            cv=TimeSeriesSplit(n_splits=3),\n",
        "            n_jobs=-1,\n",
        "            verbose=0\n",
        "        )\n",
        "\n",
        "        grid_search.fit(X_train_scaled, y_train)\n",
        "        best_model = grid_search.best_estimator_\n",
        "\n",
        "        # Predict and evaluate\n",
        "        y_pred = best_model.predict(X_test_scaled)\n",
        "        mae = mean_absolute_error(y_test, y_pred)\n",
        "        rmse = np.sqrt(mean_squared_error(y_test, y_pred))\n",
        "        r2 = r2_score(y_test, y_pred)\n",
        "\n",
        "        fold_mae.append(mae)\n",
        "        fold_rmse.append(rmse)\n",
        "        fold_r2.append(r2)\n",
        "\n",
        "        print(f\"Fold {fold+1}: MAE={mae:.2f}, RMSE={rmse:.2f}, R²={r2:.4f}\")\n",
        "        print(f\"  ➤ Best Params: {grid_search.best_params_}\")\n",
        "\n",
        "    # Fold average\n",
        "    print(f\"\\n✅ Average Metrics for {name}:\")\n",
        "    print(f\"MAE  : {np.mean(fold_mae):.2f}\")\n",
        "    print(f\"RMSE : {np.mean(fold_rmse):.2f}\")\n",
        "    print(f\"R²   : {np.mean(fold_r2):.4f}\")\n",
        "    print(\"-\" * 50)"
      ]
    },
    {
      "cell_type": "markdown",
      "metadata": {
        "id": "SGZPJ9_vqtAY"
      },
      "source": [
        "# **Checking After Hyperparameter Tuning**"
      ]
    },
    {
      "cell_type": "code",
      "source": [
        "from sklearn.ensemble import RandomForestRegressor\n",
        "from sklearn.model_selection import TimeSeriesSplit, RandomizedSearchCV\n",
        "from sklearn.preprocessing import StandardScaler\n",
        "from sklearn.metrics import mean_absolute_error, mean_squared_error, r2_score\n",
        "from scipy.stats import randint\n",
        "import numpy as np\n",
        "import warnings\n",
        "\n",
        "warnings.filterwarnings(\"ignore\", category=UserWarning, module='joblib')"
      ],
      "metadata": {
        "id": "LIgIEhPCVJ47"
      },
      "execution_count": 126,
      "outputs": []
    },
    {
      "cell_type": "markdown",
      "source": [
        "Define the parameter distribution for RandomizedSearchCV"
      ],
      "metadata": {
        "id": "N4Y8JjW9VTY9"
      }
    },
    {
      "cell_type": "code",
      "source": [
        "param_dist = {\n",
        "    \"n_estimators\": randint(50, 150),\n",
        "    \"max_depth\": [5, 10, 20, None],\n",
        "    \"min_samples_split\": [2, 5, 10],\n",
        "    \"max_features\": [\"sqrt\", \"log2\", None]\n",
        "}"
      ],
      "metadata": {
        "id": "TSnFetMSVQxz"
      },
      "execution_count": 127,
      "outputs": []
    },
    {
      "cell_type": "markdown",
      "source": [
        "Base model"
      ],
      "metadata": {
        "id": "Ojg4qjBqVbp2"
      }
    },
    {
      "cell_type": "code",
      "source": [
        "base_model = RandomForestRegressor(random_state=42)"
      ],
      "metadata": {
        "id": "WMWMtgKxVYlV"
      },
      "execution_count": 128,
      "outputs": []
    },
    {
      "cell_type": "markdown",
      "source": [
        "Time series cross-validation"
      ],
      "metadata": {
        "id": "ankFvgv1Vkau"
      }
    },
    {
      "cell_type": "code",
      "source": [
        "tscv = TimeSeriesSplit(n_splits=5)"
      ],
      "metadata": {
        "id": "aqgHHYE1Viaf"
      },
      "execution_count": 129,
      "outputs": []
    },
    {
      "cell_type": "markdown",
      "source": [
        "Lists to store metrics for each fold"
      ],
      "metadata": {
        "id": "EQlt4c8EVu0P"
      }
    },
    {
      "cell_type": "code",
      "source": [
        "fold_mae, fold_rmse, fold_r2 = [], [], []"
      ],
      "metadata": {
        "id": "hh6ykAMsVqsf"
      },
      "execution_count": 130,
      "outputs": []
    },
    {
      "cell_type": "markdown",
      "source": [
        "Hyperparameter on Random Forest"
      ],
      "metadata": {
        "id": "4B0As5SBVzjZ"
      }
    },
    {
      "cell_type": "code",
      "source": [
        "print(f\"\\n🔹 Hyperparameter Tuning for Random Forest...\\n\")\n",
        "\n",
        "for fold, (train_idx, test_idx) in enumerate(tscv.split(X_imputed)):\n",
        "    X_train, X_test = X_imputed.iloc[train_idx], X_imputed.iloc[test_idx]\n",
        "    y_train, y_test = y.iloc[train_idx], y.iloc[test_idx]\n",
        "\n",
        "    scaler = StandardScaler()\n",
        "    X_train_scaled = scaler.fit_transform(X_train)\n",
        "    X_test_scaled = scaler.transform(X_test)\n",
        "\n",
        "    random_search = RandomizedSearchCV(\n",
        "    estimator=base_model,\n",
        "    param_distributions=param_dist,\n",
        "    n_iter=20,\n",
        "    scoring='neg_root_mean_squared_error',\n",
        "    cv=TimeSeriesSplit(n_splits=3),\n",
        "    n_jobs=-1,\n",
        "    random_state=42,\n",
        "    error_score=np.nan,\n",
        "    verbose=0\n",
        ")\n",
        "\n",
        "    random_search.fit(X_train_scaled, y_train)\n",
        "    best_model = random_search.best_estimator_\n",
        "\n",
        "    y_pred = best_model.predict(X_test_scaled)\n",
        "    mae = mean_absolute_error(y_test, y_pred)\n",
        "    rmse = np.sqrt(mean_squared_error(y_test, y_pred))\n",
        "    r2 = r2_score(y_test, y_pred)\n",
        "\n",
        "    fold_mae.append(mae)\n",
        "    fold_rmse.append(rmse)\n",
        "    fold_r2.append(r2)\n",
        "\n",
        "    print(f\"Fold {fold + 1}: MAE={mae:.2f}, RMSE={rmse:.2f}, R²={r2:.4f}\")\n",
        "    print(f\"  ➤ Best Params: {random_search.best_params_}\")"
      ],
      "metadata": {
        "colab": {
          "base_uri": "https://localhost:8080/"
        },
        "id": "rHTUlARBX3GJ",
        "outputId": "6952c12c-4427-4357-f967-e6aa904ce929"
      },
      "execution_count": 132,
      "outputs": [
        {
          "output_type": "stream",
          "name": "stdout",
          "text": [
            "\n",
            "🔹 Hyperparameter Tuning for Random Forest...\n",
            "\n",
            "Fold 1: MAE=19.16, RMSE=55.36, R²=0.6409\n",
            "  ➤ Best Params: {'max_depth': None, 'max_features': None, 'min_samples_split': 5, 'n_estimators': 111}\n",
            "Fold 2: MAE=20.46, RMSE=47.22, R²=0.7117\n",
            "  ➤ Best Params: {'max_depth': None, 'max_features': None, 'min_samples_split': 5, 'n_estimators': 111}\n",
            "Fold 3: MAE=19.69, RMSE=43.93, R²=0.7779\n",
            "  ➤ Best Params: {'max_depth': 20, 'max_features': None, 'min_samples_split': 10, 'n_estimators': 137}\n",
            "Fold 4: MAE=14.32, RMSE=45.95, R²=0.7497\n",
            "  ➤ Best Params: {'max_depth': None, 'max_features': None, 'min_samples_split': 5, 'n_estimators': 111}\n",
            "Fold 5: MAE=19.44, RMSE=49.46, R²=0.4292\n",
            "  ➤ Best Params: {'max_depth': None, 'max_features': None, 'min_samples_split': 5, 'n_estimators': 111}\n"
          ]
        }
      ]
    },
    {
      "cell_type": "markdown",
      "source": [
        "Average results"
      ],
      "metadata": {
        "id": "uTHGEmgRWHgA"
      }
    },
    {
      "cell_type": "code",
      "source": [
        "print(f\"\\n✅ Average Metrics for Random Forest:\")\n",
        "print(f\"MAE  : {np.mean(fold_mae):.2f}\")\n",
        "print(f\"RMSE : {np.mean(fold_rmse):.2f}\")\n",
        "print(f\"R²   : {np.mean(fold_r2):.4f}\")\n",
        "print(\"-\" * 50)"
      ],
      "metadata": {
        "colab": {
          "base_uri": "https://localhost:8080/"
        },
        "id": "nSJSJ7SiBm7u",
        "outputId": "32f205f1-650a-4612-f5e7-af12a227ef5a"
      },
      "execution_count": 134,
      "outputs": [
        {
          "output_type": "stream",
          "name": "stdout",
          "text": [
            "\n",
            "✅ Average Metrics for Random Forest:\n",
            "MAE  : 18.61\n",
            "RMSE : 48.38\n",
            "R²   : 0.6619\n",
            "--------------------------------------------------\n"
          ]
        }
      ]
    },
    {
      "cell_type": "markdown",
      "metadata": {
        "id": "L7UuenNMAFJU"
      },
      "source": [
        "# **Classification**"
      ]
    },
    {
      "cell_type": "markdown",
      "metadata": {
        "id": "FFGE7YlxHV6A"
      },
      "source": [
        "Define AQI Categories from PM2.5"
      ]
    },
    {
      "cell_type": "code",
      "execution_count": 135,
      "metadata": {
        "id": "fnyfbM3RVvlb"
      },
      "outputs": [],
      "source": [
        "def pm25_to_aqi_category(pm25):\n",
        "    if pm25 <= 12:\n",
        "        return 'Good'\n",
        "    elif pm25 <= 35.4:\n",
        "        return 'Moderate'\n",
        "    elif pm25 <= 55.4:\n",
        "        return 'Unhealthy for Sensitive Groups'\n",
        "    elif pm25 <= 150.4:\n",
        "        return 'Unhealthy'\n",
        "    elif pm25 <= 250.4:\n",
        "        return 'Very Unhealthy'\n",
        "    else:\n",
        "        return 'Hazardous'"
      ]
    },
    {
      "cell_type": "markdown",
      "metadata": {
        "id": "5Aa6EEcKHYLD"
      },
      "source": [
        "Apply to the Target Column"
      ]
    },
    {
      "cell_type": "code",
      "execution_count": 136,
      "metadata": {
        "id": "m4S9hODGHTnR"
      },
      "outputs": [],
      "source": [
        "df_wide['aqi_category'] = df_wide['pm25'].apply(pm25_to_aqi_category)"
      ]
    },
    {
      "cell_type": "markdown",
      "metadata": {
        "id": "pBcjCqVbHcAW"
      },
      "source": [
        "Train-Test Split"
      ]
    },
    {
      "cell_type": "code",
      "execution_count": 137,
      "metadata": {
        "id": "vrQX0608HaDp"
      },
      "outputs": [],
      "source": [
        "from sklearn.model_selection import train_test_split\n",
        "\n",
        "features = ['pm25_lag1d', 'pm25_3d_avg', 'temperature_lag1d', 'temperature_7d_std']\n",
        "target = 'aqi_category'\n",
        "\n",
        "X = df_wide[features]\n",
        "y = df_wide[target]\n",
        "\n",
        "X_train, X_test, y_train, y_test = train_test_split(X, y, test_size=0.2, stratify=y, random_state=42)"
      ]
    },
    {
      "cell_type": "markdown",
      "metadata": {
        "id": "VR6aoUnwHguu"
      },
      "source": [
        "Scaling"
      ]
    },
    {
      "cell_type": "code",
      "execution_count": 138,
      "metadata": {
        "id": "KLaXOa25Hd7y"
      },
      "outputs": [],
      "source": [
        "scaler = StandardScaler()\n",
        "X_train_scaled = scaler.fit_transform(X_train)\n",
        "X_test_scaled = scaler.transform(X_test)"
      ]
    },
    {
      "cell_type": "markdown",
      "metadata": {
        "id": "43K94ZMbHkNx"
      },
      "source": [
        "Train Classifier (Random Forest)"
      ]
    },
    {
      "cell_type": "code",
      "execution_count": 139,
      "metadata": {
        "id": "xOmvtLG9HioE"
      },
      "outputs": [],
      "source": [
        "from sklearn.ensemble import RandomForestClassifier\n",
        "from sklearn.metrics import classification_report, confusion_matrix\n",
        "import seaborn as sns\n",
        "import matplotlib.pyplot as plt\n",
        "\n",
        "clf = RandomForestClassifier(n_estimators=100, random_state=42)\n",
        "clf.fit(X_train_scaled, y_train)\n",
        "\n",
        "y_pred = clf.predict(X_test_scaled)"
      ]
    },
    {
      "cell_type": "markdown",
      "metadata": {
        "id": "2Mx-vfJ8HrAT"
      },
      "source": [
        "Evaluation"
      ]
    },
    {
      "cell_type": "code",
      "execution_count": 140,
      "metadata": {
        "id": "cfrx07SXq8gO",
        "colab": {
          "base_uri": "https://localhost:8080/"
        },
        "outputId": "6c41b1dc-d9fe-4827-bc6b-2c295887b6f3"
      },
      "outputs": [
        {
          "output_type": "stream",
          "name": "stdout",
          "text": [
            "📄 Classification Report:\n",
            "                                precision    recall  f1-score   support\n",
            "\n",
            "                          Good       0.00      0.00      0.00         1\n",
            "                     Hazardous       1.00      0.50      0.67         2\n",
            "                      Moderate       0.82      0.67      0.74        76\n",
            "                     Unhealthy       0.89      0.96      0.92       580\n",
            "Unhealthy for Sensitive Groups       0.84      0.77      0.81       220\n",
            "                Very Unhealthy       0.94      0.84      0.89        92\n",
            "\n",
            "                      accuracy                           0.88       971\n",
            "                     macro avg       0.75      0.62      0.67       971\n",
            "                  weighted avg       0.88      0.88      0.88       971\n",
            "\n"
          ]
        },
        {
          "output_type": "stream",
          "name": "stderr",
          "text": [
            "/usr/local/lib/python3.11/dist-packages/sklearn/metrics/_classification.py:1565: UndefinedMetricWarning: Precision is ill-defined and being set to 0.0 in labels with no predicted samples. Use `zero_division` parameter to control this behavior.\n",
            "  _warn_prf(average, modifier, f\"{metric.capitalize()} is\", len(result))\n",
            "/usr/local/lib/python3.11/dist-packages/sklearn/metrics/_classification.py:1565: UndefinedMetricWarning: Precision is ill-defined and being set to 0.0 in labels with no predicted samples. Use `zero_division` parameter to control this behavior.\n",
            "  _warn_prf(average, modifier, f\"{metric.capitalize()} is\", len(result))\n",
            "/usr/local/lib/python3.11/dist-packages/sklearn/metrics/_classification.py:1565: UndefinedMetricWarning: Precision is ill-defined and being set to 0.0 in labels with no predicted samples. Use `zero_division` parameter to control this behavior.\n",
            "  _warn_prf(average, modifier, f\"{metric.capitalize()} is\", len(result))\n"
          ]
        }
      ],
      "source": [
        "print(\"📄 Classification Report:\")\n",
        "print(classification_report(y_test, y_pred))"
      ]
    },
    {
      "cell_type": "markdown",
      "metadata": {
        "id": "X3W_aAnZq-aT"
      },
      "source": [
        "Confusion Matrix"
      ]
    },
    {
      "cell_type": "code",
      "execution_count": 141,
      "metadata": {
        "colab": {
          "base_uri": "https://localhost:8080/",
          "height": 766
        },
        "id": "mBo7YZzMHoqN",
        "outputId": "f1db0417-a38c-4b23-9c63-27bd5aee20c6"
      },
      "outputs": [
        {
          "output_type": "display_data",
          "data": {
            "text/plain": [
              "<Figure size 1000x600 with 2 Axes>"
            ],
            "image/png": "[encoded data removed]"
          },
          "metadata": {}
        }
      ],
      "source": [
        "cm = confusion_matrix(y_test, y_pred, labels=clf.classes_)\n",
        "plt.figure(figsize=(10, 6))\n",
        "sns.heatmap(cm, annot=True, fmt='d', xticklabels=clf.classes_, yticklabels=clf.classes_, cmap='Blues')\n",
        "plt.xlabel('Predicted')\n",
        "plt.ylabel('Actual')\n",
        "plt.title('Confusion Matrix')\n",
        "plt.show()"
      ]
    },
    {
      "cell_type": "code",
      "source": [],
      "metadata": {
        "id": "wxKRPleuDAvz"
      },
      "execution_count": null,
      "outputs": []
    }
  ],
  "metadata": {
    "colab": {
      "provenance": []
    },
    "kernelspec": {
      "display_name": "Python 3",
      "name": "python3"
    },
    "language_info": {
      "name": "python"
    }
  },
  "nbformat": 4,
  "nbformat_minor": 0
}